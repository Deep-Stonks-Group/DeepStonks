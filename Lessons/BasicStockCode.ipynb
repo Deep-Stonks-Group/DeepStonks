{
 "cells": [
  {
   "cell_type": "markdown",
   "source": [
    "This is for loading all of the the 'AAPL' stock historical data. You can change the period from\n",
    "\"max\" to a specific start_date and end_date in order to get a specific range of dates. You can also set the\n",
    "interval to be minutes, hours, days, weeks.\n",
    "\n",
    "Once the data is loaded into a dictionary, it will dump it in the stockData dictionary file."
   ],
   "metadata": {
    "collapsed": false,
    "pycharm": {
     "name": "#%% md\n"
    }
   }
  },
  {
   "cell_type": "code",
   "execution_count": null,
   "outputs": [],
   "source": [
    "import yfinance as yf\n",
    "# The data is stored in this dictionary and can be accessed by stockData[symbol]\n",
    "stockData = {}\n",
    "\n",
    "# Just choosing a random baseline stock\n",
    "symb = 'AAPL'\n",
    "\n",
    "# Loading the stock data from Yahoo finance API\n",
    "stock = yf.Ticker(symb)\n",
    "data = stock.history(period=\"max\")\n",
    "data.head()\n",
    "data =data.values.tolist()\n",
    "data = [[i[j] for j in range(5) ] for i in data]\n",
    "\n",
    "# This is just making sure that the data was loaded properly\n",
    "if len(data) > 10:\n",
    "    stockData[symb] = data\n",
    "\n",
    "# Saves the data in a pickle file\n",
    "import pickle\n",
    "f = open('Data/HistoricalData/stockData.pkl','wb')\n",
    "pickle.dump(stockData,f)\n",
    "f.close()"
   ],
   "metadata": {
    "collapsed": false,
    "pycharm": {
     "name": "#%%\n"
    }
   }
  },
  {
   "cell_type": "markdown",
   "source": [
    "This is built on the previous code. It will load data corresponding to each minute of data from\n",
    "the last seven days. It does this for all stocks in the nasdaq stock exchange. This takes a minute."
   ],
   "metadata": {
    "collapsed": false
   }
  },
  {
   "cell_type": "code",
   "execution_count": null,
   "outputs": [],
   "source": [
    "import pandas as pd\n",
    "import requests\n",
    "import io\n",
    "import yfinance as yf\n",
    "\n",
    "# This loads all the stock symbols listed on the nasdaq.\n",
    "url=\"https://pkgstore.datahub.io/core/nasdaq-listings/nasdaq-listed_csv/data/7665719fb51081ba0bd834fde71ce822/nasdaq-listed_csv.csv\"\n",
    "s = requests.get(url).content\n",
    "companies = pd.read_csv(io.StringIO(s.decode('utf-8')))\n",
    "symbols = companies['Symbol'].tolist()\n",
    "\n",
    "# This corresponds to the number of days/minutes/hours of historical data that should be returned when the yahoo finance\n",
    "# api is called. I just use the code above and get the number of days from the apple stock. I do this bc\n",
    "# some stocks aren't loaded fully or they are missing days. This will lead to misalligned data, so I just\n",
    "# ignore those cases.\n",
    "numTimeSteps = 2725\n",
    "# This is the list of symbols that sucessfully is loaded from YFinance.\n",
    "symbList = []\n",
    "# Dictionary where the historical data is stored. It can be accessed with stockData[symbol]\n",
    "stockData = {}\n",
    "# Loop through all stocks listed on the nasdaq and attempt to load them.\n",
    "for symb in symbols:\n",
    "    try:\n",
    "        print(symb)\n",
    "        # Loading the stock\n",
    "        stock = yf.Ticker(symb)\n",
    "        # Formatting the data\n",
    "        data = stock.history(period=\"7d\",interval='1m')\n",
    "        data.head()\n",
    "        dates = data.index.tolist()\n",
    "        data =data.values.tolist()\n",
    "        data = [[i[j] for j in range(5) ] for i in data]\n",
    "        # If the number of days is not correct, then it will not be added.\n",
    "        if len(data) == numTimeSteps:\n",
    "            stockData[symb] = data\n",
    "            symbList.append(symb)\n",
    "    except:\n",
    "        a = 1"
   ],
   "metadata": {
    "collapsed": false,
    "pycharm": {
     "name": "#%%\n"
    }
   }
  },
  {
   "cell_type": "markdown",
   "source": [
    "Now using pickle to dump the date to a file to be used later."
   ],
   "metadata": {
    "collapsed": false
   }
  },
  {
   "cell_type": "code",
   "execution_count": null,
   "outputs": [],
   "source": [
    "import pickle\n",
    "f = open('7wData.pkl','wb')\n",
    "pickle.dump(stockData,f)\n",
    "f.close()\n",
    "f = open('7wLst.pkl','wb')\n",
    "pickle.dump(symbList,f)\n",
    "f.close()"
   ],
   "metadata": {
    "collapsed": false,
    "pycharm": {
     "name": "#%%\n"
    }
   }
  },
  {
   "cell_type": "markdown",
   "source": [
    "This is an example of using Ta-lib to get some technical indicator data. Specfically this example gets\n",
    "the RSI which is an indicator that uses moving averages to determine if a stock is overbought or oversold. It\n",
    "also returns the macD which is an indicator that tells the mometum of the current stock."
   ],
   "metadata": {
    "collapsed": false
   }
  },
  {
   "cell_type": "code",
   "execution_count": null,
   "outputs": [],
   "source": [
    "import pickle\n",
    "import talib as ta\n",
    "import numpy as np\n",
    "\n",
    "## Code if I need to load any previous data\n",
    "# f = open('20yrData.pkl','rb')\n",
    "# stockData= pickle.load(f)\n",
    "# f.close()\n",
    "# f = open('20yrLst.pkl','rb')\n",
    "# symbList= pickle.load(f)\n",
    "# f.close()\n",
    "\n",
    "# Stores the rsi for each day for each symbol. risDict[symbol] will be a stocks historical rsi values.\n",
    "rsiDict = {}\n",
    "# Stores the close prices for each day for each symbol. closeDict[symbol] will be a stocks\n",
    "# historical close values.\n",
    "closeDict = {}\n",
    "# Stores the macD for each day for each symbol. closeDict[symbol] will be a stocks\n",
    "# historical close values.\n",
    "macDict = {}\n",
    "# This loops through each stock and find the indcators.\n",
    "for symb in symbList:\n",
    "    # Getting the historical data.\n",
    "    data = stockData[symb]\n",
    "    # Extracting only the histrocial closee price.\n",
    "    close = np.asarray([i[3] for i in data])\n",
    "    # Use ta-lib to get the macD.\n",
    "    macdAll = ta.MACD(close)\n",
    "    # Use ta-lib to get the rsi. Need to remove first 33 datapoints since the are N/A.\n",
    "    # (rsi relies on moving averages, so there must be > 33 datapoints to use)\n",
    "    rsi = ta.RSI(close).tolist()[33:len(close)]\n",
    "    close = close.tolist()\n",
    "    # Shortenning up the macD data to match rsi. And seperating it into the macD and signal.\n",
    "    # (two different parts of the indicator).\n",
    "    macd = macdAll[0][33:len(close)]\n",
    "    signal = macdAll[1][33:len(close)]\n",
    "    # Shortening up close price to match.\n",
    "    close = close[33:len(close)]\n",
    "    # Converting the macD and signal to a more interpretable value.\n",
    "    diff = (macd - signal) / close\n",
    "    # Storing the historical data in a dictionary corresponding to the symbol.\n",
    "    closeDict[symb] = close\n",
    "    macDict[symb] = diff\n",
    "    rsiDict[symb] = rsi\n",
    "\n",
    "\n"
   ],
   "metadata": {
    "collapsed": false,
    "pycharm": {
     "name": "#%%\n"
    }
   }
  }
 ],
 "metadata": {
  "kernelspec": {
   "display_name": "Python 3",
   "language": "python",
   "name": "python3"
  },
  "language_info": {
   "codemirror_mode": {
    "name": "ipython",
    "version": 2
   },
   "file_extension": ".py",
   "mimetype": "text/x-python",
   "name": "python",
   "nbconvert_exporter": "python",
   "pygments_lexer": "ipython2",
   "version": "2.7.6"
  }
 },
 "nbformat": 4,
 "nbformat_minor": 0
}
