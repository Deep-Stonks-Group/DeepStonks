{
  "nbformat": 4,
  "nbformat_minor": 0,
  "metadata": {
    "colab": {
      "name": "Intro To Python For Finance",
      "provenance": []
    },
    "kernelspec": {
      "name": "python3",
      "display_name": "Python 3"
    },
    "language_info": {
      "name": "python"
    }
  },
  "cells": [
    {
      "cell_type": "markdown",
      "metadata": {
        "id": "xP3ARJt4D1rb"
      },
      "source": [
        "# Set up"
      ]
    },
    {
      "cell_type": "markdown",
      "metadata": {
        "id": "SA1UkSby5CT0"
      },
      "source": [
        "First you need to install the Yahoo Finance packages"
      ]
    },
    {
      "cell_type": "code",
      "metadata": {
        "id": "kMYG2a5QD62z",
        "colab": {
          "base_uri": "https://localhost:8080/"
        },
        "outputId": "fb7b1820-dfb3-4402-9b49-24e575d4b0da"
      },
      "source": [
        "!pip install yfinance"
      ],
      "execution_count": 1,
      "outputs": [
        {
          "output_type": "stream",
          "text": [
            "Collecting yfinance\n",
            "  Downloading https://files.pythonhosted.org/packages/a7/ee/315752b9ef281ba83c62aa7ec2e2074f85223da6e7e74efb4d3e11c0f510/yfinance-0.1.59.tar.gz\n",
            "Requirement already satisfied: pandas>=0.24 in /usr/local/lib/python3.7/dist-packages (from yfinance) (1.1.5)\n",
            "Requirement already satisfied: numpy>=1.15 in /usr/local/lib/python3.7/dist-packages (from yfinance) (1.19.5)\n",
            "Requirement already satisfied: requests>=2.20 in /usr/local/lib/python3.7/dist-packages (from yfinance) (2.23.0)\n",
            "Requirement already satisfied: multitasking>=0.0.7 in /usr/local/lib/python3.7/dist-packages (from yfinance) (0.0.9)\n",
            "Collecting lxml>=4.5.1\n",
            "\u001b[?25l  Downloading https://files.pythonhosted.org/packages/30/c0/d0526314971fc661b083ab135747dc68446a3022686da8c16d25fcf6ef07/lxml-4.6.3-cp37-cp37m-manylinux2014_x86_64.whl (6.3MB)\n",
            "\u001b[K     |████████████████████████████████| 6.3MB 4.4MB/s \n",
            "\u001b[?25hRequirement already satisfied: python-dateutil>=2.7.3 in /usr/local/lib/python3.7/dist-packages (from pandas>=0.24->yfinance) (2.8.1)\n",
            "Requirement already satisfied: pytz>=2017.2 in /usr/local/lib/python3.7/dist-packages (from pandas>=0.24->yfinance) (2018.9)\n",
            "Requirement already satisfied: certifi>=2017.4.17 in /usr/local/lib/python3.7/dist-packages (from requests>=2.20->yfinance) (2020.12.5)\n",
            "Requirement already satisfied: idna<3,>=2.5 in /usr/local/lib/python3.7/dist-packages (from requests>=2.20->yfinance) (2.10)\n",
            "Requirement already satisfied: chardet<4,>=3.0.2 in /usr/local/lib/python3.7/dist-packages (from requests>=2.20->yfinance) (3.0.4)\n",
            "Requirement already satisfied: urllib3!=1.25.0,!=1.25.1,<1.26,>=1.21.1 in /usr/local/lib/python3.7/dist-packages (from requests>=2.20->yfinance) (1.24.3)\n",
            "Requirement already satisfied: six>=1.5 in /usr/local/lib/python3.7/dist-packages (from python-dateutil>=2.7.3->pandas>=0.24->yfinance) (1.15.0)\n",
            "Building wheels for collected packages: yfinance\n",
            "  Building wheel for yfinance (setup.py) ... \u001b[?25l\u001b[?25hdone\n",
            "  Created wheel for yfinance: filename=yfinance-0.1.59-py2.py3-none-any.whl size=23442 sha256=e07e2d334018a6fa9a222e350f49a7fa21ac7b2b50c83673b687cc523460e9ee\n",
            "  Stored in directory: /root/.cache/pip/wheels/f8/2a/0f/4b5a86e1d52e451757eb6bc17fd899629f0925c777741b6d04\n",
            "Successfully built yfinance\n",
            "Installing collected packages: lxml, yfinance\n",
            "  Found existing installation: lxml 4.2.6\n",
            "    Uninstalling lxml-4.2.6:\n",
            "      Successfully uninstalled lxml-4.2.6\n",
            "Successfully installed lxml-4.6.3 yfinance-0.1.59\n"
          ],
          "name": "stdout"
        }
      ]
    },
    {
      "cell_type": "code",
      "metadata": {
        "id": "rvLeA_AnD_B7"
      },
      "source": [
        "import yfinance as yf\n",
        "from datetime import datetime\n",
        "from pandas import DataFrame"
      ],
      "execution_count": 2,
      "outputs": []
    },
    {
      "cell_type": "markdown",
      "metadata": {
        "id": "XL6X2Sfc4tuU"
      },
      "source": [
        "# Yahoo Finance: Basic Company Data\n",
        "\n"
      ]
    },
    {
      "cell_type": "markdown",
      "metadata": {
        "id": "UTdrribWEGZG"
      },
      "source": [
        "## Getting Basic Info"
      ]
    },
    {
      "cell_type": "markdown",
      "metadata": {
        "id": "bEJbpQ_-5Jhm"
      },
      "source": [
        "Now that we have the packages we can import the them and get some background info on the company."
      ]
    },
    {
      "cell_type": "code",
      "metadata": {
        "colab": {
          "base_uri": "https://localhost:8080/"
        },
        "id": "29QDmWK64ei8",
        "outputId": "147f4991-221c-404b-ca84-594d21e70977"
      },
      "source": [
        "symb = 'AAPL'\n",
        "# stock = yf.Ticker(symb)\n",
        "print(\"All apple info: \")\n",
        "print(stock.info)\n",
        "\n",
        "# Some basic stock info\n",
        "sector = stock.info['sector']\n",
        "print(\"\\nSector: \" + sector)\n",
        "peg = str(stock.info['pegRatio'])\n",
        "print(\"Peg: \" + peg)\n",
        "div = str(stock.info['dividendRate'])\n",
        "print(\"Divedend Rate: \" + div)\n",
        "\n",
        "# Getting Market cap and formatting it\n",
        "market_cap = str(stock.info['marketCap'])\n",
        "market_cap = \"${:,.2f}\".format(int(market_cap))\n",
        "print(\"Market Cap: \" + market_cap)\n",
        "\n",
        "# Get the data of the last quarter\n",
        "rcnt_qtr = stock.info['mostRecentQuarter']\n",
        "rcnt_qtr = datetime.fromtimestamp(rcnt_qtr).strftime(\"%A, %B %d, %Y %I:%M:%S\")\n",
        "print(\"Recent Quarter: \" + rcnt_qtr)\n",
        "\n"
      ],
      "execution_count": null,
      "outputs": [
        {
          "output_type": "stream",
          "text": [
            "All apple info: \n",
            "{'zip': '95014', 'sector': 'Technology', 'fullTimeEmployees': 100000, 'longBusinessSummary': 'Apple Inc. designs, manufactures, and markets smartphones, personal computers, tablets, wearables, and accessories worldwide. It also sells various related services. The company offers iPhone, a line of smartphones; Mac, a line of personal computers; iPad, a line of multi-purpose tablets; and wearables, home, and accessories comprising AirPods, Apple TV, Apple Watch, Beats products, HomePod, iPod touch, and other Apple-branded and third-party accessories. It also provides AppleCare support services; cloud services store services; and operates various platforms, including the App Store, that allow customers to discover and download applications and digital content, such as books, music, video, games, and podcasts. In addition, the company offers various services, such as Apple Arcade, a game subscription service; Apple Music, which offers users a curated listening experience with on-demand radio stations; Apple News+, a subscription news and magazine service; Apple TV+, which offers exclusive original content; Apple Card, a co-branded credit card; and Apple Pay, a cashless payment service, as well as licenses its intellectual property. The company serves consumers, and small and mid-sized businesses; and the education, enterprise, and government markets. It sells and delivers third-party applications for its products through the App Store. The company also sells its products through its retail and online stores, and direct sales force; and third-party cellular network carriers, wholesalers, retailers, and resellers. Apple Inc. was founded in 1977 and is headquartered in Cupertino, California.', 'city': 'Cupertino', 'phone': '408-996-1010', 'state': 'CA', 'country': 'United States', 'companyOfficers': [], 'website': 'http://www.apple.com', 'maxAge': 1, 'address1': 'One Apple Park Way', 'industry': 'Consumer Electronics', 'previousClose': 127.85, 'regularMarketOpen': 129.2, 'twoHundredDayAverage': 126.05434, 'trailingAnnualDividendYield': 0.006413766, 'payoutRatio': 0.1834, 'volume24Hr': None, 'regularMarketDayHigh': 130.44, 'navPrice': None, 'averageDailyVolume10Day': 102000828, 'totalAssets': None, 'regularMarketPreviousClose': 127.85, 'fiftyDayAverage': 128.302, 'trailingAnnualDividendRate': 0.82, 'open': 129.2, 'toCurrency': None, 'averageVolume10days': 102000828, 'expireDate': None, 'yield': None, 'algorithm': None, 'dividendRate': 0.88, 'exDividendDate': 1620345600, 'beta': 1.219525, 'circulatingSupply': None, 'startDate': None, 'regularMarketDayLow': 128.64, 'priceHint': 2, 'currency': 'USD', 'trailingPE': 28.951448, 'regularMarketVolume': 63020084, 'lastMarket': None, 'maxSupply': None, 'openInterest': None, 'marketCap': 2149446189056, 'volumeAllCurrencies': None, 'strikePrice': None, 'averageVolume': 102014859, 'priceToSalesTrailing12Months': 6.6054287, 'dayLow': 128.64, 'ask': 128.75, 'ytdReturn': None, 'askSize': 1000, 'volume': 63020084, 'fiftyTwoWeekHigh': 145.09, 'forwardPE': 24.257061, 'fromCurrency': None, 'fiveYearAvgDividendYield': 1.37, 'fiftyTwoWeekLow': 74.7175, 'bid': 128.74, 'tradeable': False, 'dividendYield': 0.0069, 'bidSize': 2200, 'dayHigh': 130.44, 'exchange': 'NMS', 'shortName': 'Apple Inc.', 'longName': 'Apple Inc.', 'exchangeTimezoneName': 'America/New_York', 'exchangeTimezoneShortName': 'EDT', 'isEsgPopulated': False, 'gmtOffSetMilliseconds': '-14400000', 'quoteType': 'EQUITY', 'symbol': 'AAPL', 'messageBoardId': 'finmb_24937', 'market': 'us_market', 'annualHoldingsTurnover': None, 'enterpriseToRevenue': 6.716, 'beta3Year': None, 'profitMargins': 0.23451, 'enterpriseToEbitda': 21.893, '52WeekChange': 0.7010944, 'morningStarRiskRating': None, 'forwardEps': 5.31, 'revenueQuarterlyGrowth': None, 'sharesOutstanding': 16687599616, 'fundInceptionDate': None, 'annualReportExpenseRatio': None, 'bookValue': 4.146, 'sharesShort': 127937929, 'sharesPercentSharesOut': 0.0077, 'fundFamily': None, 'lastFiscalYearEnd': 1601078400, 'heldPercentInstitutions': 0.60099, 'netIncomeToCommon': 76311003136, 'trailingEps': 4.449, 'lastDividendValue': 0.205, 'SandP52WeekChange': 0.46209478, 'priceToBook': 31.067293, 'heldPercentInsiders': 0.00075999997, 'nextFiscalYearEnd': 1664150400, 'mostRecentQuarter': 1616803200, 'shortRatio': 1.29, 'sharesShortPreviousMonthDate': 1615766400, 'floatShares': 16670275864, 'enterpriseValue': 2185324658688, 'threeYearAverageReturn': None, 'lastSplitDate': 1598832000, 'lastSplitFactor': '4:1', 'legalType': None, 'lastDividendDate': 1612483200, 'morningStarOverallRating': None, 'earningsQuarterlyGrowth': 1.101, 'dateShortInterest': 1618444800, 'pegRatio': 1.46, 'lastCapGain': None, 'shortPercentOfFloat': 0.0077, 'sharesShortPriorMonth': 107011007, 'impliedSharesOutstanding': None, 'category': None, 'fiveYearAverageReturn': None, 'regularMarketPrice': 128.805, 'logo_url': 'https://logo.clearbit.com/apple.com'}\n",
            "\n",
            "Sector: Technology\n",
            "Peg: 1.46\n",
            "Divedend Rate: 0.88\n",
            "Market Cap: $2,149,446,189,056.00\n",
            "Recent Quarter: Saturday, March 27, 2021 12:00:00\n"
          ],
          "name": "stdout"
        }
      ]
    },
    {
      "cell_type": "markdown",
      "metadata": {
        "id": "ERVRC2Zl6PeC"
      },
      "source": [
        "## Get the recommendations from top firms"
      ]
    },
    {
      "cell_type": "code",
      "metadata": {
        "colab": {
          "base_uri": "https://localhost:8080/",
          "height": 450
        },
        "id": "uuPKSGXl43V8",
        "outputId": "cf68bf21-a03f-4f20-f457-a695c671814d"
      },
      "source": [
        "recs = stock.get_recommendations()\n",
        "display(recs)"
      ],
      "execution_count": null,
      "outputs": [
        {
          "output_type": "display_data",
          "data": {
            "text/html": [
              "<div>\n",
              "<style scoped>\n",
              "    .dataframe tbody tr th:only-of-type {\n",
              "        vertical-align: middle;\n",
              "    }\n",
              "\n",
              "    .dataframe tbody tr th {\n",
              "        vertical-align: top;\n",
              "    }\n",
              "\n",
              "    .dataframe thead th {\n",
              "        text-align: right;\n",
              "    }\n",
              "</style>\n",
              "<table border=\"1\" class=\"dataframe\">\n",
              "  <thead>\n",
              "    <tr style=\"text-align: right;\">\n",
              "      <th></th>\n",
              "      <th>Firm</th>\n",
              "      <th>To Grade</th>\n",
              "      <th>From Grade</th>\n",
              "      <th>Action</th>\n",
              "    </tr>\n",
              "    <tr>\n",
              "      <th>Date</th>\n",
              "      <th></th>\n",
              "      <th></th>\n",
              "      <th></th>\n",
              "      <th></th>\n",
              "    </tr>\n",
              "  </thead>\n",
              "  <tbody>\n",
              "    <tr>\n",
              "      <th>2012-02-09 08:17:00</th>\n",
              "      <td>Canaccord Genuity</td>\n",
              "      <td>Buy</td>\n",
              "      <td></td>\n",
              "      <td>main</td>\n",
              "    </tr>\n",
              "    <tr>\n",
              "      <th>2012-03-08 07:33:00</th>\n",
              "      <td>FBN Securities</td>\n",
              "      <td>Outperform</td>\n",
              "      <td></td>\n",
              "      <td>main</td>\n",
              "    </tr>\n",
              "    <tr>\n",
              "      <th>2012-03-13 06:08:00</th>\n",
              "      <td>Jefferies</td>\n",
              "      <td>Buy</td>\n",
              "      <td></td>\n",
              "      <td>main</td>\n",
              "    </tr>\n",
              "    <tr>\n",
              "      <th>2012-03-14 06:13:00</th>\n",
              "      <td>Morgan Stanley</td>\n",
              "      <td>Overweight</td>\n",
              "      <td></td>\n",
              "      <td>main</td>\n",
              "    </tr>\n",
              "    <tr>\n",
              "      <th>2012-03-14 08:21:00</th>\n",
              "      <td>Canaccord Genuity</td>\n",
              "      <td>Buy</td>\n",
              "      <td></td>\n",
              "      <td>main</td>\n",
              "    </tr>\n",
              "    <tr>\n",
              "      <th>...</th>\n",
              "      <td>...</td>\n",
              "      <td>...</td>\n",
              "      <td>...</td>\n",
              "      <td>...</td>\n",
              "    </tr>\n",
              "    <tr>\n",
              "      <th>2021-04-29 12:36:07</th>\n",
              "      <td>Jefferies</td>\n",
              "      <td>Buy</td>\n",
              "      <td></td>\n",
              "      <td>main</td>\n",
              "    </tr>\n",
              "    <tr>\n",
              "      <th>2021-04-29 13:17:44</th>\n",
              "      <td>Canaccord Genuity</td>\n",
              "      <td>Buy</td>\n",
              "      <td></td>\n",
              "      <td>main</td>\n",
              "    </tr>\n",
              "    <tr>\n",
              "      <th>2021-04-29 13:20:06</th>\n",
              "      <td>Credit Suisse</td>\n",
              "      <td>Neutral</td>\n",
              "      <td></td>\n",
              "      <td>main</td>\n",
              "    </tr>\n",
              "    <tr>\n",
              "      <th>2021-04-29 13:40:32</th>\n",
              "      <td>Monness, Crespi, Hardt</td>\n",
              "      <td>Buy</td>\n",
              "      <td></td>\n",
              "      <td>main</td>\n",
              "    </tr>\n",
              "    <tr>\n",
              "      <th>2021-04-29 14:01:59</th>\n",
              "      <td>Barclays</td>\n",
              "      <td>Equal-Weight</td>\n",
              "      <td></td>\n",
              "      <td>main</td>\n",
              "    </tr>\n",
              "  </tbody>\n",
              "</table>\n",
              "<p>789 rows × 4 columns</p>\n",
              "</div>"
            ],
            "text/plain": [
              "                                       Firm      To Grade From Grade Action\n",
              "Date                                                                       \n",
              "2012-02-09 08:17:00       Canaccord Genuity           Buy              main\n",
              "2012-03-08 07:33:00          FBN Securities    Outperform              main\n",
              "2012-03-13 06:08:00               Jefferies           Buy              main\n",
              "2012-03-14 06:13:00          Morgan Stanley    Overweight              main\n",
              "2012-03-14 08:21:00       Canaccord Genuity           Buy              main\n",
              "...                                     ...           ...        ...    ...\n",
              "2021-04-29 12:36:07               Jefferies           Buy              main\n",
              "2021-04-29 13:17:44       Canaccord Genuity           Buy              main\n",
              "2021-04-29 13:20:06           Credit Suisse       Neutral              main\n",
              "2021-04-29 13:40:32  Monness, Crespi, Hardt           Buy              main\n",
              "2021-04-29 14:01:59                Barclays  Equal-Weight              main\n",
              "\n",
              "[789 rows x 4 columns]"
            ]
          },
          "metadata": {
            "tags": []
          }
        }
      ]
    },
    {
      "cell_type": "markdown",
      "metadata": {
        "id": "eBkRZkACEcCe"
      },
      "source": [
        "## Get information on stock holders\n"
      ]
    },
    {
      "cell_type": "code",
      "metadata": {
        "colab": {
          "base_uri": "https://localhost:8080/",
          "height": 173
        },
        "id": "wblxQwxTC48e",
        "outputId": "0f414d8e-09f1-427e-88fb-599d437ef6f5"
      },
      "source": [
        "holders = stock.get_major_holders()\n",
        "display(holders)"
      ],
      "execution_count": null,
      "outputs": [
        {
          "output_type": "display_data",
          "data": {
            "text/html": [
              "<div>\n",
              "<style scoped>\n",
              "    .dataframe tbody tr th:only-of-type {\n",
              "        vertical-align: middle;\n",
              "    }\n",
              "\n",
              "    .dataframe tbody tr th {\n",
              "        vertical-align: top;\n",
              "    }\n",
              "\n",
              "    .dataframe thead th {\n",
              "        text-align: right;\n",
              "    }\n",
              "</style>\n",
              "<table border=\"1\" class=\"dataframe\">\n",
              "  <thead>\n",
              "    <tr style=\"text-align: right;\">\n",
              "      <th></th>\n",
              "      <th>0</th>\n",
              "      <th>1</th>\n",
              "    </tr>\n",
              "  </thead>\n",
              "  <tbody>\n",
              "    <tr>\n",
              "      <th>0</th>\n",
              "      <td>0.08%</td>\n",
              "      <td>% of Shares Held by All Insider</td>\n",
              "    </tr>\n",
              "    <tr>\n",
              "      <th>1</th>\n",
              "      <td>60.10%</td>\n",
              "      <td>% of Shares Held by Institutions</td>\n",
              "    </tr>\n",
              "    <tr>\n",
              "      <th>2</th>\n",
              "      <td>60.15%</td>\n",
              "      <td>% of Float Held by Institutions</td>\n",
              "    </tr>\n",
              "    <tr>\n",
              "      <th>3</th>\n",
              "      <td>4900</td>\n",
              "      <td>Number of Institutions Holding Shares</td>\n",
              "    </tr>\n",
              "  </tbody>\n",
              "</table>\n",
              "</div>"
            ],
            "text/plain": [
              "        0                                      1\n",
              "0   0.08%        % of Shares Held by All Insider\n",
              "1  60.10%       % of Shares Held by Institutions\n",
              "2  60.15%        % of Float Held by Institutions\n",
              "3    4900  Number of Institutions Holding Shares"
            ]
          },
          "metadata": {
            "tags": []
          }
        }
      ]
    },
    {
      "cell_type": "markdown",
      "metadata": {
        "id": "ejZLTdNGElUu"
      },
      "source": [
        "## Get Finacials"
      ]
    },
    {
      "cell_type": "markdown",
      "metadata": {
        "id": "AoIFUF_fA8J8"
      },
      "source": [
        "### Get Financial Statements"
      ]
    },
    {
      "cell_type": "code",
      "metadata": {
        "colab": {
          "base_uri": "https://localhost:8080/",
          "height": 731
        },
        "id": "he3CM17mAplT",
        "outputId": "e496daad-fed6-4a49-ba3b-6be61c467f47"
      },
      "source": [
        "fin = stock.get_financials()\n",
        "display(fin)"
      ],
      "execution_count": null,
      "outputs": [
        {
          "output_type": "display_data",
          "data": {
            "text/html": [
              "<div>\n",
              "<style scoped>\n",
              "    .dataframe tbody tr th:only-of-type {\n",
              "        vertical-align: middle;\n",
              "    }\n",
              "\n",
              "    .dataframe tbody tr th {\n",
              "        vertical-align: top;\n",
              "    }\n",
              "\n",
              "    .dataframe thead th {\n",
              "        text-align: right;\n",
              "    }\n",
              "</style>\n",
              "<table border=\"1\" class=\"dataframe\">\n",
              "  <thead>\n",
              "    <tr style=\"text-align: right;\">\n",
              "      <th></th>\n",
              "      <th>2020-09-26</th>\n",
              "      <th>2019-09-28</th>\n",
              "      <th>2018-09-29</th>\n",
              "      <th>2017-09-30</th>\n",
              "    </tr>\n",
              "  </thead>\n",
              "  <tbody>\n",
              "    <tr>\n",
              "      <th>Research Development</th>\n",
              "      <td>1.8752e+10</td>\n",
              "      <td>1.6217e+10</td>\n",
              "      <td>1.4236e+10</td>\n",
              "      <td>1.1581e+10</td>\n",
              "    </tr>\n",
              "    <tr>\n",
              "      <th>Effect Of Accounting Charges</th>\n",
              "      <td>None</td>\n",
              "      <td>None</td>\n",
              "      <td>None</td>\n",
              "      <td>None</td>\n",
              "    </tr>\n",
              "    <tr>\n",
              "      <th>Income Before Tax</th>\n",
              "      <td>6.7091e+10</td>\n",
              "      <td>6.5737e+10</td>\n",
              "      <td>7.2903e+10</td>\n",
              "      <td>6.4089e+10</td>\n",
              "    </tr>\n",
              "    <tr>\n",
              "      <th>Minority Interest</th>\n",
              "      <td>None</td>\n",
              "      <td>None</td>\n",
              "      <td>None</td>\n",
              "      <td>None</td>\n",
              "    </tr>\n",
              "    <tr>\n",
              "      <th>Net Income</th>\n",
              "      <td>5.7411e+10</td>\n",
              "      <td>5.5256e+10</td>\n",
              "      <td>5.9531e+10</td>\n",
              "      <td>4.8351e+10</td>\n",
              "    </tr>\n",
              "    <tr>\n",
              "      <th>Selling General Administrative</th>\n",
              "      <td>1.9916e+10</td>\n",
              "      <td>1.8245e+10</td>\n",
              "      <td>1.6705e+10</td>\n",
              "      <td>1.5261e+10</td>\n",
              "    </tr>\n",
              "    <tr>\n",
              "      <th>Gross Profit</th>\n",
              "      <td>1.04956e+11</td>\n",
              "      <td>9.8392e+10</td>\n",
              "      <td>1.01839e+11</td>\n",
              "      <td>8.8186e+10</td>\n",
              "    </tr>\n",
              "    <tr>\n",
              "      <th>Ebit</th>\n",
              "      <td>6.6288e+10</td>\n",
              "      <td>6.393e+10</td>\n",
              "      <td>7.0898e+10</td>\n",
              "      <td>6.1344e+10</td>\n",
              "    </tr>\n",
              "    <tr>\n",
              "      <th>Operating Income</th>\n",
              "      <td>6.6288e+10</td>\n",
              "      <td>6.393e+10</td>\n",
              "      <td>7.0898e+10</td>\n",
              "      <td>6.1344e+10</td>\n",
              "    </tr>\n",
              "    <tr>\n",
              "      <th>Other Operating Expenses</th>\n",
              "      <td>None</td>\n",
              "      <td>None</td>\n",
              "      <td>None</td>\n",
              "      <td>None</td>\n",
              "    </tr>\n",
              "    <tr>\n",
              "      <th>Interest Expense</th>\n",
              "      <td>-2.873e+09</td>\n",
              "      <td>-3.576e+09</td>\n",
              "      <td>-3.24e+09</td>\n",
              "      <td>-2.323e+09</td>\n",
              "    </tr>\n",
              "    <tr>\n",
              "      <th>Extraordinary Items</th>\n",
              "      <td>None</td>\n",
              "      <td>None</td>\n",
              "      <td>None</td>\n",
              "      <td>None</td>\n",
              "    </tr>\n",
              "    <tr>\n",
              "      <th>Non Recurring</th>\n",
              "      <td>None</td>\n",
              "      <td>None</td>\n",
              "      <td>None</td>\n",
              "      <td>None</td>\n",
              "    </tr>\n",
              "    <tr>\n",
              "      <th>Other Items</th>\n",
              "      <td>None</td>\n",
              "      <td>None</td>\n",
              "      <td>None</td>\n",
              "      <td>None</td>\n",
              "    </tr>\n",
              "    <tr>\n",
              "      <th>Income Tax Expense</th>\n",
              "      <td>9.68e+09</td>\n",
              "      <td>1.0481e+10</td>\n",
              "      <td>1.3372e+10</td>\n",
              "      <td>1.5738e+10</td>\n",
              "    </tr>\n",
              "    <tr>\n",
              "      <th>Total Revenue</th>\n",
              "      <td>2.74515e+11</td>\n",
              "      <td>2.60174e+11</td>\n",
              "      <td>2.65595e+11</td>\n",
              "      <td>2.29234e+11</td>\n",
              "    </tr>\n",
              "    <tr>\n",
              "      <th>Total Operating Expenses</th>\n",
              "      <td>2.08227e+11</td>\n",
              "      <td>1.96244e+11</td>\n",
              "      <td>1.94697e+11</td>\n",
              "      <td>1.6789e+11</td>\n",
              "    </tr>\n",
              "    <tr>\n",
              "      <th>Cost Of Revenue</th>\n",
              "      <td>1.69559e+11</td>\n",
              "      <td>1.61782e+11</td>\n",
              "      <td>1.63756e+11</td>\n",
              "      <td>1.41048e+11</td>\n",
              "    </tr>\n",
              "    <tr>\n",
              "      <th>Total Other Income Expense Net</th>\n",
              "      <td>8.03e+08</td>\n",
              "      <td>1.807e+09</td>\n",
              "      <td>2.005e+09</td>\n",
              "      <td>2.745e+09</td>\n",
              "    </tr>\n",
              "    <tr>\n",
              "      <th>Discontinued Operations</th>\n",
              "      <td>None</td>\n",
              "      <td>None</td>\n",
              "      <td>None</td>\n",
              "      <td>None</td>\n",
              "    </tr>\n",
              "    <tr>\n",
              "      <th>Net Income From Continuing Ops</th>\n",
              "      <td>5.7411e+10</td>\n",
              "      <td>5.5256e+10</td>\n",
              "      <td>5.9531e+10</td>\n",
              "      <td>4.8351e+10</td>\n",
              "    </tr>\n",
              "    <tr>\n",
              "      <th>Net Income Applicable To Common Shares</th>\n",
              "      <td>5.7411e+10</td>\n",
              "      <td>5.5256e+10</td>\n",
              "      <td>5.9531e+10</td>\n",
              "      <td>4.8351e+10</td>\n",
              "    </tr>\n",
              "  </tbody>\n",
              "</table>\n",
              "</div>"
            ],
            "text/plain": [
              "                                         2020-09-26  ...   2017-09-30\n",
              "Research Development                     1.8752e+10  ...   1.1581e+10\n",
              "Effect Of Accounting Charges                   None  ...         None\n",
              "Income Before Tax                        6.7091e+10  ...   6.4089e+10\n",
              "Minority Interest                              None  ...         None\n",
              "Net Income                               5.7411e+10  ...   4.8351e+10\n",
              "Selling General Administrative           1.9916e+10  ...   1.5261e+10\n",
              "Gross Profit                            1.04956e+11  ...   8.8186e+10\n",
              "Ebit                                     6.6288e+10  ...   6.1344e+10\n",
              "Operating Income                         6.6288e+10  ...   6.1344e+10\n",
              "Other Operating Expenses                       None  ...         None\n",
              "Interest Expense                         -2.873e+09  ...   -2.323e+09\n",
              "Extraordinary Items                            None  ...         None\n",
              "Non Recurring                                  None  ...         None\n",
              "Other Items                                    None  ...         None\n",
              "Income Tax Expense                         9.68e+09  ...   1.5738e+10\n",
              "Total Revenue                           2.74515e+11  ...  2.29234e+11\n",
              "Total Operating Expenses                2.08227e+11  ...   1.6789e+11\n",
              "Cost Of Revenue                         1.69559e+11  ...  1.41048e+11\n",
              "Total Other Income Expense Net             8.03e+08  ...    2.745e+09\n",
              "Discontinued Operations                        None  ...         None\n",
              "Net Income From Continuing Ops           5.7411e+10  ...   4.8351e+10\n",
              "Net Income Applicable To Common Shares   5.7411e+10  ...   4.8351e+10\n",
              "\n",
              "[22 rows x 4 columns]"
            ]
          },
          "metadata": {
            "tags": []
          }
        }
      ]
    },
    {
      "cell_type": "markdown",
      "metadata": {
        "id": "U48k1hEpCMwr"
      },
      "source": [
        "### Get Cashflow"
      ]
    },
    {
      "cell_type": "code",
      "metadata": {
        "colab": {
          "base_uri": "https://localhost:8080/",
          "height": 638
        },
        "id": "5YAtwNpgBw8A",
        "outputId": "ff4ae642-ca48-4599-8b38-3809bdfd2241"
      },
      "source": [
        "cf_statement = stock.get_cashflow()\n",
        "display(cf_statement)\n"
      ],
      "execution_count": null,
      "outputs": [
        {
          "output_type": "display_data",
          "data": {
            "text/html": [
              "<div>\n",
              "<style scoped>\n",
              "    .dataframe tbody tr th:only-of-type {\n",
              "        vertical-align: middle;\n",
              "    }\n",
              "\n",
              "    .dataframe tbody tr th {\n",
              "        vertical-align: top;\n",
              "    }\n",
              "\n",
              "    .dataframe thead th {\n",
              "        text-align: right;\n",
              "    }\n",
              "</style>\n",
              "<table border=\"1\" class=\"dataframe\">\n",
              "  <thead>\n",
              "    <tr style=\"text-align: right;\">\n",
              "      <th></th>\n",
              "      <th>2020-09-26</th>\n",
              "      <th>2019-09-28</th>\n",
              "      <th>2018-09-29</th>\n",
              "      <th>2017-09-30</th>\n",
              "    </tr>\n",
              "  </thead>\n",
              "  <tbody>\n",
              "    <tr>\n",
              "      <th>Investments</th>\n",
              "      <td>5.335000e+09</td>\n",
              "      <td>5.809300e+10</td>\n",
              "      <td>3.084500e+10</td>\n",
              "      <td>-3.354200e+10</td>\n",
              "    </tr>\n",
              "    <tr>\n",
              "      <th>Change To Liabilities</th>\n",
              "      <td>-1.981000e+09</td>\n",
              "      <td>-2.548000e+09</td>\n",
              "      <td>9.172000e+09</td>\n",
              "      <td>8.373000e+09</td>\n",
              "    </tr>\n",
              "    <tr>\n",
              "      <th>Total Cashflows From Investing Activities</th>\n",
              "      <td>-4.289000e+09</td>\n",
              "      <td>4.589600e+10</td>\n",
              "      <td>1.606600e+10</td>\n",
              "      <td>-4.644600e+10</td>\n",
              "    </tr>\n",
              "    <tr>\n",
              "      <th>Net Borrowings</th>\n",
              "      <td>2.499000e+09</td>\n",
              "      <td>-7.819000e+09</td>\n",
              "      <td>4.320000e+08</td>\n",
              "      <td>2.901400e+10</td>\n",
              "    </tr>\n",
              "    <tr>\n",
              "      <th>Total Cash From Financing Activities</th>\n",
              "      <td>-8.682000e+10</td>\n",
              "      <td>-9.097600e+10</td>\n",
              "      <td>-8.787600e+10</td>\n",
              "      <td>-1.797400e+10</td>\n",
              "    </tr>\n",
              "    <tr>\n",
              "      <th>Change To Operating Activities</th>\n",
              "      <td>8.810000e+08</td>\n",
              "      <td>-8.960000e+08</td>\n",
              "      <td>3.001600e+10</td>\n",
              "      <td>-8.480000e+09</td>\n",
              "    </tr>\n",
              "    <tr>\n",
              "      <th>Issuance Of Stock</th>\n",
              "      <td>8.800000e+08</td>\n",
              "      <td>7.810000e+08</td>\n",
              "      <td>6.690000e+08</td>\n",
              "      <td>5.550000e+08</td>\n",
              "    </tr>\n",
              "    <tr>\n",
              "      <th>Net Income</th>\n",
              "      <td>5.741100e+10</td>\n",
              "      <td>5.525600e+10</td>\n",
              "      <td>5.953100e+10</td>\n",
              "      <td>4.835100e+10</td>\n",
              "    </tr>\n",
              "    <tr>\n",
              "      <th>Change In Cash</th>\n",
              "      <td>-1.043500e+10</td>\n",
              "      <td>2.431100e+10</td>\n",
              "      <td>5.624000e+09</td>\n",
              "      <td>-1.950000e+08</td>\n",
              "    </tr>\n",
              "    <tr>\n",
              "      <th>Repurchase Of Stock</th>\n",
              "      <td>-7.599200e+10</td>\n",
              "      <td>-6.971400e+10</td>\n",
              "      <td>-7.526500e+10</td>\n",
              "      <td>-3.477400e+10</td>\n",
              "    </tr>\n",
              "    <tr>\n",
              "      <th>Total Cash From Operating Activities</th>\n",
              "      <td>8.067400e+10</td>\n",
              "      <td>6.939100e+10</td>\n",
              "      <td>7.743400e+10</td>\n",
              "      <td>6.422500e+10</td>\n",
              "    </tr>\n",
              "    <tr>\n",
              "      <th>Depreciation</th>\n",
              "      <td>1.105600e+10</td>\n",
              "      <td>1.254700e+10</td>\n",
              "      <td>1.090300e+10</td>\n",
              "      <td>1.015700e+10</td>\n",
              "    </tr>\n",
              "    <tr>\n",
              "      <th>Other Cashflows From Investing Activities</th>\n",
              "      <td>-7.910000e+08</td>\n",
              "      <td>-1.078000e+09</td>\n",
              "      <td>-7.450000e+08</td>\n",
              "      <td>-1.240000e+08</td>\n",
              "    </tr>\n",
              "    <tr>\n",
              "      <th>Dividends Paid</th>\n",
              "      <td>-1.408100e+10</td>\n",
              "      <td>-1.411900e+10</td>\n",
              "      <td>-1.371200e+10</td>\n",
              "      <td>-1.276900e+10</td>\n",
              "    </tr>\n",
              "    <tr>\n",
              "      <th>Change To Inventory</th>\n",
              "      <td>-1.270000e+08</td>\n",
              "      <td>-2.890000e+08</td>\n",
              "      <td>8.280000e+08</td>\n",
              "      <td>-2.723000e+09</td>\n",
              "    </tr>\n",
              "    <tr>\n",
              "      <th>Change To Account Receivables</th>\n",
              "      <td>6.917000e+09</td>\n",
              "      <td>2.450000e+08</td>\n",
              "      <td>-5.322000e+09</td>\n",
              "      <td>-2.093000e+09</td>\n",
              "    </tr>\n",
              "    <tr>\n",
              "      <th>Other Cashflows From Financing Activities</th>\n",
              "      <td>-1.260000e+08</td>\n",
              "      <td>-1.050000e+08</td>\n",
              "      <td>-1.050000e+08</td>\n",
              "      <td>-1.050000e+08</td>\n",
              "    </tr>\n",
              "    <tr>\n",
              "      <th>Change To Netincome</th>\n",
              "      <td>6.517000e+09</td>\n",
              "      <td>5.076000e+09</td>\n",
              "      <td>-2.769400e+10</td>\n",
              "      <td>1.064000e+10</td>\n",
              "    </tr>\n",
              "    <tr>\n",
              "      <th>Capital Expenditures</th>\n",
              "      <td>-7.309000e+09</td>\n",
              "      <td>-1.049500e+10</td>\n",
              "      <td>-1.331300e+10</td>\n",
              "      <td>-1.245100e+10</td>\n",
              "    </tr>\n",
              "  </tbody>\n",
              "</table>\n",
              "</div>"
            ],
            "text/plain": [
              "                                             2020-09-26  ...    2017-09-30\n",
              "Investments                                5.335000e+09  ... -3.354200e+10\n",
              "Change To Liabilities                     -1.981000e+09  ...  8.373000e+09\n",
              "Total Cashflows From Investing Activities -4.289000e+09  ... -4.644600e+10\n",
              "Net Borrowings                             2.499000e+09  ...  2.901400e+10\n",
              "Total Cash From Financing Activities      -8.682000e+10  ... -1.797400e+10\n",
              "Change To Operating Activities             8.810000e+08  ... -8.480000e+09\n",
              "Issuance Of Stock                          8.800000e+08  ...  5.550000e+08\n",
              "Net Income                                 5.741100e+10  ...  4.835100e+10\n",
              "Change In Cash                            -1.043500e+10  ... -1.950000e+08\n",
              "Repurchase Of Stock                       -7.599200e+10  ... -3.477400e+10\n",
              "Total Cash From Operating Activities       8.067400e+10  ...  6.422500e+10\n",
              "Depreciation                               1.105600e+10  ...  1.015700e+10\n",
              "Other Cashflows From Investing Activities -7.910000e+08  ... -1.240000e+08\n",
              "Dividends Paid                            -1.408100e+10  ... -1.276900e+10\n",
              "Change To Inventory                       -1.270000e+08  ... -2.723000e+09\n",
              "Change To Account Receivables              6.917000e+09  ... -2.093000e+09\n",
              "Other Cashflows From Financing Activities -1.260000e+08  ... -1.050000e+08\n",
              "Change To Netincome                        6.517000e+09  ...  1.064000e+10\n",
              "Capital Expenditures                      -7.309000e+09  ... -1.245100e+10\n",
              "\n",
              "[19 rows x 4 columns]"
            ]
          },
          "metadata": {
            "tags": []
          }
        }
      ]
    },
    {
      "cell_type": "markdown",
      "metadata": {
        "id": "SXWTTTl0Csdq"
      },
      "source": [
        "### Get Balance Sheet"
      ]
    },
    {
      "cell_type": "code",
      "metadata": {
        "colab": {
          "base_uri": "https://localhost:8080/",
          "height": 762
        },
        "id": "XJ-MYMLSCVNc",
        "outputId": "9e013736-25c3-415f-d13a-31af91e373b9"
      },
      "source": [
        "bal_sheet = stock.get_balance_sheet()\n",
        "display(bal_sheet)"
      ],
      "execution_count": null,
      "outputs": [
        {
          "output_type": "display_data",
          "data": {
            "text/html": [
              "<div>\n",
              "<style scoped>\n",
              "    .dataframe tbody tr th:only-of-type {\n",
              "        vertical-align: middle;\n",
              "    }\n",
              "\n",
              "    .dataframe tbody tr th {\n",
              "        vertical-align: top;\n",
              "    }\n",
              "\n",
              "    .dataframe thead th {\n",
              "        text-align: right;\n",
              "    }\n",
              "</style>\n",
              "<table border=\"1\" class=\"dataframe\">\n",
              "  <thead>\n",
              "    <tr style=\"text-align: right;\">\n",
              "      <th></th>\n",
              "      <th>2020-09-26</th>\n",
              "      <th>2019-09-28</th>\n",
              "      <th>2018-09-29</th>\n",
              "      <th>2017-09-30</th>\n",
              "    </tr>\n",
              "  </thead>\n",
              "  <tbody>\n",
              "    <tr>\n",
              "      <th>Total Liab</th>\n",
              "      <td>2.585490e+11</td>\n",
              "      <td>2.480280e+11</td>\n",
              "      <td>2.585780e+11</td>\n",
              "      <td>2.412720e+11</td>\n",
              "    </tr>\n",
              "    <tr>\n",
              "      <th>Total Stockholder Equity</th>\n",
              "      <td>6.533900e+10</td>\n",
              "      <td>9.048800e+10</td>\n",
              "      <td>1.071470e+11</td>\n",
              "      <td>1.340470e+11</td>\n",
              "    </tr>\n",
              "    <tr>\n",
              "      <th>Other Current Liab</th>\n",
              "      <td>4.786700e+10</td>\n",
              "      <td>4.324200e+10</td>\n",
              "      <td>3.929300e+10</td>\n",
              "      <td>3.809900e+10</td>\n",
              "    </tr>\n",
              "    <tr>\n",
              "      <th>Total Assets</th>\n",
              "      <td>3.238880e+11</td>\n",
              "      <td>3.385160e+11</td>\n",
              "      <td>3.657250e+11</td>\n",
              "      <td>3.753190e+11</td>\n",
              "    </tr>\n",
              "    <tr>\n",
              "      <th>Common Stock</th>\n",
              "      <td>5.077900e+10</td>\n",
              "      <td>4.517400e+10</td>\n",
              "      <td>4.020100e+10</td>\n",
              "      <td>3.586700e+10</td>\n",
              "    </tr>\n",
              "    <tr>\n",
              "      <th>Other Current Assets</th>\n",
              "      <td>1.126400e+10</td>\n",
              "      <td>1.235200e+10</td>\n",
              "      <td>1.208700e+10</td>\n",
              "      <td>1.393600e+10</td>\n",
              "    </tr>\n",
              "    <tr>\n",
              "      <th>Retained Earnings</th>\n",
              "      <td>1.496600e+10</td>\n",
              "      <td>4.589800e+10</td>\n",
              "      <td>7.040000e+10</td>\n",
              "      <td>9.833000e+10</td>\n",
              "    </tr>\n",
              "    <tr>\n",
              "      <th>Other Liab</th>\n",
              "      <td>4.610800e+10</td>\n",
              "      <td>5.050300e+10</td>\n",
              "      <td>4.891400e+10</td>\n",
              "      <td>4.325100e+10</td>\n",
              "    </tr>\n",
              "    <tr>\n",
              "      <th>Treasury Stock</th>\n",
              "      <td>-4.060000e+08</td>\n",
              "      <td>-5.840000e+08</td>\n",
              "      <td>-3.454000e+09</td>\n",
              "      <td>-1.500000e+08</td>\n",
              "    </tr>\n",
              "    <tr>\n",
              "      <th>Other Assets</th>\n",
              "      <td>3.395200e+10</td>\n",
              "      <td>3.297800e+10</td>\n",
              "      <td>2.228300e+10</td>\n",
              "      <td>1.817700e+10</td>\n",
              "    </tr>\n",
              "    <tr>\n",
              "      <th>Cash</th>\n",
              "      <td>3.801600e+10</td>\n",
              "      <td>4.884400e+10</td>\n",
              "      <td>2.591300e+10</td>\n",
              "      <td>2.028900e+10</td>\n",
              "    </tr>\n",
              "    <tr>\n",
              "      <th>Total Current Liabilities</th>\n",
              "      <td>1.053920e+11</td>\n",
              "      <td>1.057180e+11</td>\n",
              "      <td>1.159290e+11</td>\n",
              "      <td>1.008140e+11</td>\n",
              "    </tr>\n",
              "    <tr>\n",
              "      <th>Short Long Term Debt</th>\n",
              "      <td>8.773000e+09</td>\n",
              "      <td>1.026000e+10</td>\n",
              "      <td>8.784000e+09</td>\n",
              "      <td>6.496000e+09</td>\n",
              "    </tr>\n",
              "    <tr>\n",
              "      <th>Other Stockholder Equity</th>\n",
              "      <td>-4.060000e+08</td>\n",
              "      <td>-5.840000e+08</td>\n",
              "      <td>-3.454000e+09</td>\n",
              "      <td>-1.500000e+08</td>\n",
              "    </tr>\n",
              "    <tr>\n",
              "      <th>Property Plant Equipment</th>\n",
              "      <td>4.533600e+10</td>\n",
              "      <td>3.737800e+10</td>\n",
              "      <td>4.130400e+10</td>\n",
              "      <td>3.378300e+10</td>\n",
              "    </tr>\n",
              "    <tr>\n",
              "      <th>Total Current Assets</th>\n",
              "      <td>1.437130e+11</td>\n",
              "      <td>1.628190e+11</td>\n",
              "      <td>1.313390e+11</td>\n",
              "      <td>1.286450e+11</td>\n",
              "    </tr>\n",
              "    <tr>\n",
              "      <th>Long Term Investments</th>\n",
              "      <td>1.008870e+11</td>\n",
              "      <td>1.053410e+11</td>\n",
              "      <td>1.707990e+11</td>\n",
              "      <td>1.947140e+11</td>\n",
              "    </tr>\n",
              "    <tr>\n",
              "      <th>Net Tangible Assets</th>\n",
              "      <td>6.533900e+10</td>\n",
              "      <td>9.048800e+10</td>\n",
              "      <td>1.071470e+11</td>\n",
              "      <td>1.340470e+11</td>\n",
              "    </tr>\n",
              "    <tr>\n",
              "      <th>Short Term Investments</th>\n",
              "      <td>5.292700e+10</td>\n",
              "      <td>5.171300e+10</td>\n",
              "      <td>4.038800e+10</td>\n",
              "      <td>5.389200e+10</td>\n",
              "    </tr>\n",
              "    <tr>\n",
              "      <th>Net Receivables</th>\n",
              "      <td>3.744500e+10</td>\n",
              "      <td>4.580400e+10</td>\n",
              "      <td>4.899500e+10</td>\n",
              "      <td>3.567300e+10</td>\n",
              "    </tr>\n",
              "    <tr>\n",
              "      <th>Long Term Debt</th>\n",
              "      <td>9.866700e+10</td>\n",
              "      <td>9.180700e+10</td>\n",
              "      <td>9.373500e+10</td>\n",
              "      <td>9.720700e+10</td>\n",
              "    </tr>\n",
              "    <tr>\n",
              "      <th>Inventory</th>\n",
              "      <td>4.061000e+09</td>\n",
              "      <td>4.106000e+09</td>\n",
              "      <td>3.956000e+09</td>\n",
              "      <td>4.855000e+09</td>\n",
              "    </tr>\n",
              "    <tr>\n",
              "      <th>Accounts Payable</th>\n",
              "      <td>4.229600e+10</td>\n",
              "      <td>4.623600e+10</td>\n",
              "      <td>5.588800e+10</td>\n",
              "      <td>4.424200e+10</td>\n",
              "    </tr>\n",
              "  </tbody>\n",
              "</table>\n",
              "</div>"
            ],
            "text/plain": [
              "                             2020-09-26  ...    2017-09-30\n",
              "Total Liab                 2.585490e+11  ...  2.412720e+11\n",
              "Total Stockholder Equity   6.533900e+10  ...  1.340470e+11\n",
              "Other Current Liab         4.786700e+10  ...  3.809900e+10\n",
              "Total Assets               3.238880e+11  ...  3.753190e+11\n",
              "Common Stock               5.077900e+10  ...  3.586700e+10\n",
              "Other Current Assets       1.126400e+10  ...  1.393600e+10\n",
              "Retained Earnings          1.496600e+10  ...  9.833000e+10\n",
              "Other Liab                 4.610800e+10  ...  4.325100e+10\n",
              "Treasury Stock            -4.060000e+08  ... -1.500000e+08\n",
              "Other Assets               3.395200e+10  ...  1.817700e+10\n",
              "Cash                       3.801600e+10  ...  2.028900e+10\n",
              "Total Current Liabilities  1.053920e+11  ...  1.008140e+11\n",
              "Short Long Term Debt       8.773000e+09  ...  6.496000e+09\n",
              "Other Stockholder Equity  -4.060000e+08  ... -1.500000e+08\n",
              "Property Plant Equipment   4.533600e+10  ...  3.378300e+10\n",
              "Total Current Assets       1.437130e+11  ...  1.286450e+11\n",
              "Long Term Investments      1.008870e+11  ...  1.947140e+11\n",
              "Net Tangible Assets        6.533900e+10  ...  1.340470e+11\n",
              "Short Term Investments     5.292700e+10  ...  5.389200e+10\n",
              "Net Receivables            3.744500e+10  ...  3.567300e+10\n",
              "Long Term Debt             9.866700e+10  ...  9.720700e+10\n",
              "Inventory                  4.061000e+09  ...  4.855000e+09\n",
              "Accounts Payable           4.229600e+10  ...  4.424200e+10\n",
              "\n",
              "[23 rows x 4 columns]"
            ]
          },
          "metadata": {
            "tags": []
          }
        }
      ]
    },
    {
      "cell_type": "markdown",
      "metadata": {
        "id": "zpNnWniHEyU2"
      },
      "source": [
        "# Yahoo Finance: Getting and Playing with Historical Data"
      ]
    },
    {
      "cell_type": "markdown",
      "metadata": {
        "id": "zT86L3PUPpwd"
      },
      "source": [
        "Getting the history of the stock."
      ]
    },
    {
      "cell_type": "code",
      "metadata": {
        "colab": {
          "base_uri": "https://localhost:8080/",
          "height": 450
        },
        "id": "X662pCjrFJXz",
        "outputId": "778badc2-0a47-4108-9515-6cf649f2f9de"
      },
      "source": [
        "stock_history = stock.history(period=\"max\")\n",
        "display(stock_history)"
      ],
      "execution_count": null,
      "outputs": [
        {
          "output_type": "display_data",
          "data": {
            "text/html": [
              "<div>\n",
              "<style scoped>\n",
              "    .dataframe tbody tr th:only-of-type {\n",
              "        vertical-align: middle;\n",
              "    }\n",
              "\n",
              "    .dataframe tbody tr th {\n",
              "        vertical-align: top;\n",
              "    }\n",
              "\n",
              "    .dataframe thead th {\n",
              "        text-align: right;\n",
              "    }\n",
              "</style>\n",
              "<table border=\"1\" class=\"dataframe\">\n",
              "  <thead>\n",
              "    <tr style=\"text-align: right;\">\n",
              "      <th></th>\n",
              "      <th>Open</th>\n",
              "      <th>High</th>\n",
              "      <th>Low</th>\n",
              "      <th>Close</th>\n",
              "      <th>Volume</th>\n",
              "      <th>Dividends</th>\n",
              "      <th>Stock Splits</th>\n",
              "    </tr>\n",
              "    <tr>\n",
              "      <th>Date</th>\n",
              "      <th></th>\n",
              "      <th></th>\n",
              "      <th></th>\n",
              "      <th></th>\n",
              "      <th></th>\n",
              "      <th></th>\n",
              "      <th></th>\n",
              "    </tr>\n",
              "  </thead>\n",
              "  <tbody>\n",
              "    <tr>\n",
              "      <th>1980-12-12</th>\n",
              "      <td>0.100922</td>\n",
              "      <td>0.101361</td>\n",
              "      <td>0.100922</td>\n",
              "      <td>0.100922</td>\n",
              "      <td>469033600</td>\n",
              "      <td>0.0</td>\n",
              "      <td>0.0</td>\n",
              "    </tr>\n",
              "    <tr>\n",
              "      <th>1980-12-15</th>\n",
              "      <td>0.096096</td>\n",
              "      <td>0.096096</td>\n",
              "      <td>0.095657</td>\n",
              "      <td>0.095657</td>\n",
              "      <td>175884800</td>\n",
              "      <td>0.0</td>\n",
              "      <td>0.0</td>\n",
              "    </tr>\n",
              "    <tr>\n",
              "      <th>1980-12-16</th>\n",
              "      <td>0.089075</td>\n",
              "      <td>0.089075</td>\n",
              "      <td>0.088636</td>\n",
              "      <td>0.088636</td>\n",
              "      <td>105728000</td>\n",
              "      <td>0.0</td>\n",
              "      <td>0.0</td>\n",
              "    </tr>\n",
              "    <tr>\n",
              "      <th>1980-12-17</th>\n",
              "      <td>0.090830</td>\n",
              "      <td>0.091268</td>\n",
              "      <td>0.090830</td>\n",
              "      <td>0.090830</td>\n",
              "      <td>86441600</td>\n",
              "      <td>0.0</td>\n",
              "      <td>0.0</td>\n",
              "    </tr>\n",
              "    <tr>\n",
              "      <th>1980-12-18</th>\n",
              "      <td>0.093463</td>\n",
              "      <td>0.093902</td>\n",
              "      <td>0.093463</td>\n",
              "      <td>0.093463</td>\n",
              "      <td>73449600</td>\n",
              "      <td>0.0</td>\n",
              "      <td>0.0</td>\n",
              "    </tr>\n",
              "    <tr>\n",
              "      <th>...</th>\n",
              "      <td>...</td>\n",
              "      <td>...</td>\n",
              "      <td>...</td>\n",
              "      <td>...</td>\n",
              "      <td>...</td>\n",
              "      <td>...</td>\n",
              "      <td>...</td>\n",
              "    </tr>\n",
              "    <tr>\n",
              "      <th>2021-04-29</th>\n",
              "      <td>136.470001</td>\n",
              "      <td>137.070007</td>\n",
              "      <td>132.449997</td>\n",
              "      <td>133.479996</td>\n",
              "      <td>151101000</td>\n",
              "      <td>0.0</td>\n",
              "      <td>0.0</td>\n",
              "    </tr>\n",
              "    <tr>\n",
              "      <th>2021-04-30</th>\n",
              "      <td>131.779999</td>\n",
              "      <td>133.559998</td>\n",
              "      <td>131.070007</td>\n",
              "      <td>131.460007</td>\n",
              "      <td>109713200</td>\n",
              "      <td>0.0</td>\n",
              "      <td>0.0</td>\n",
              "    </tr>\n",
              "    <tr>\n",
              "      <th>2021-05-03</th>\n",
              "      <td>132.039993</td>\n",
              "      <td>134.070007</td>\n",
              "      <td>131.830002</td>\n",
              "      <td>132.539993</td>\n",
              "      <td>75135100</td>\n",
              "      <td>0.0</td>\n",
              "      <td>0.0</td>\n",
              "    </tr>\n",
              "    <tr>\n",
              "      <th>2021-05-04</th>\n",
              "      <td>131.190002</td>\n",
              "      <td>131.490005</td>\n",
              "      <td>126.699997</td>\n",
              "      <td>127.849998</td>\n",
              "      <td>137375500</td>\n",
              "      <td>0.0</td>\n",
              "      <td>0.0</td>\n",
              "    </tr>\n",
              "    <tr>\n",
              "      <th>2021-05-05</th>\n",
              "      <td>129.199997</td>\n",
              "      <td>130.440002</td>\n",
              "      <td>127.974403</td>\n",
              "      <td>128.100006</td>\n",
              "      <td>81207034</td>\n",
              "      <td>0.0</td>\n",
              "      <td>0.0</td>\n",
              "    </tr>\n",
              "  </tbody>\n",
              "</table>\n",
              "<p>10185 rows × 7 columns</p>\n",
              "</div>"
            ],
            "text/plain": [
              "                  Open        High  ...  Dividends  Stock Splits\n",
              "Date                                ...                         \n",
              "1980-12-12    0.100922    0.101361  ...        0.0           0.0\n",
              "1980-12-15    0.096096    0.096096  ...        0.0           0.0\n",
              "1980-12-16    0.089075    0.089075  ...        0.0           0.0\n",
              "1980-12-17    0.090830    0.091268  ...        0.0           0.0\n",
              "1980-12-18    0.093463    0.093902  ...        0.0           0.0\n",
              "...                ...         ...  ...        ...           ...\n",
              "2021-04-29  136.470001  137.070007  ...        0.0           0.0\n",
              "2021-04-30  131.779999  133.559998  ...        0.0           0.0\n",
              "2021-05-03  132.039993  134.070007  ...        0.0           0.0\n",
              "2021-05-04  131.190002  131.490005  ...        0.0           0.0\n",
              "2021-05-05  129.199997  130.440002  ...        0.0           0.0\n",
              "\n",
              "[10185 rows x 7 columns]"
            ]
          },
          "metadata": {
            "tags": []
          }
        }
      ]
    },
    {
      "cell_type": "markdown",
      "metadata": {
        "id": "rzlG6xBqP5GI"
      },
      "source": [
        "Plotting the Data"
      ]
    },
    {
      "cell_type": "code",
      "metadata": {
        "colab": {
          "base_uri": "https://localhost:8080/",
          "height": 286
        },
        "id": "vPLg6bcxP7zX",
        "outputId": "b2b652fe-c747-4365-f39b-ff235e4ac9bb"
      },
      "source": [
        "stock_history['Close'].plot()"
      ],
      "execution_count": null,
      "outputs": [
        {
          "output_type": "execute_result",
          "data": {
            "text/plain": [
              "<matplotlib.axes._subplots.AxesSubplot at 0x7f399dbb1e90>"
            ]
          },
          "metadata": {
            "tags": []
          },
          "execution_count": 72
        },
        {
          "output_type": "display_data",
          "data": {
            "image/png": "[encoded data removed]",
            "text/plain": [
              "<Figure size 432x288 with 1 Axes>"
            ]
          },
          "metadata": {
            "tags": [],
            "needs_background": "light"
          }
        }
      ]
    },
    {
      "cell_type": "markdown",
      "metadata": {
        "id": "Qe9pkjBrQK9q"
      },
      "source": [
        "Getting a smaller time period"
      ]
    },
    {
      "cell_type": "code",
      "metadata": {
        "colab": {
          "base_uri": "https://localhost:8080/",
          "height": 294
        },
        "id": "urwt7_E-QP3Z",
        "outputId": "6fd01b1f-f826-4275-ef58-6dc09fc14bc6"
      },
      "source": [
        "stock_history = stock.history(period=\"1y\")\n",
        "stock_history['Close'].plot()"
      ],
      "execution_count": null,
      "outputs": [
        {
          "output_type": "execute_result",
          "data": {
            "text/plain": [
              "<matplotlib.axes._subplots.AxesSubplot at 0x7f399d9e0090>"
            ]
          },
          "metadata": {
            "tags": []
          },
          "execution_count": 74
        },
        {
          "output_type": "display_data",
          "data": {
            "image/png": "[encoded data removed]",
            "text/plain": [
              "<Figure size 432x288 with 1 Axes>"
            ]
          },
          "metadata": {
            "tags": [],
            "needs_background": "light"
          }
        }
      ]
    },
    {
      "cell_type": "markdown",
      "metadata": {
        "id": "LiDGb5fbQo9X"
      },
      "source": [
        "Getting a specific data range"
      ]
    },
    {
      "cell_type": "code",
      "metadata": {
        "colab": {
          "base_uri": "https://localhost:8080/",
          "height": 294
        },
        "id": "zZHkJBYQQxwf",
        "outputId": "8b45d436-67fb-4f09-96ee-e471cf34e8a9"
      },
      "source": [
        "start_date =\"2020-08-01\"\n",
        "end_date = \"2021-01-01\"\n",
        "stock_history = stock.history(start=start_date,end=end_date)\n",
        "stock_history['Close'].plot()\n"
      ],
      "execution_count": null,
      "outputs": [
        {
          "output_type": "execute_result",
          "data": {
            "text/plain": [
              "<matplotlib.axes._subplots.AxesSubplot at 0x7f399d810a90>"
            ]
          },
          "metadata": {
            "tags": []
          },
          "execution_count": 79
        },
        {
          "output_type": "display_data",
          "data": {
            "image/png": "[encoded data removed]",
            "text/plain": [
              "<Figure size 432x288 with 1 Axes>"
            ]
          },
          "metadata": {
            "tags": [],
            "needs_background": "light"
          }
        }
      ]
    },
    {
      "cell_type": "markdown",
      "metadata": {
        "id": "L3hv_uQVPpAf"
      },
      "source": [
        "Use pandas to computer the moving average"
      ]
    },
    {
      "cell_type": "code",
      "metadata": {
        "colab": {
          "base_uri": "https://localhost:8080/",
          "height": 450
        },
        "id": "jmYRvEn8FNbE",
        "outputId": "54d4259f-6c00-44c8-89af-e8e75d81f90c"
      },
      "source": [
        "stock_history.rolling(window=20).mean()"
      ],
      "execution_count": null,
      "outputs": [
        {
          "output_type": "execute_result",
          "data": {
            "text/html": [
              "<div>\n",
              "<style scoped>\n",
              "    .dataframe tbody tr th:only-of-type {\n",
              "        vertical-align: middle;\n",
              "    }\n",
              "\n",
              "    .dataframe tbody tr th {\n",
              "        vertical-align: top;\n",
              "    }\n",
              "\n",
              "    .dataframe thead th {\n",
              "        text-align: right;\n",
              "    }\n",
              "</style>\n",
              "<table border=\"1\" class=\"dataframe\">\n",
              "  <thead>\n",
              "    <tr style=\"text-align: right;\">\n",
              "      <th></th>\n",
              "      <th>Open</th>\n",
              "      <th>High</th>\n",
              "      <th>Low</th>\n",
              "      <th>Close</th>\n",
              "      <th>Volume</th>\n",
              "      <th>Dividends</th>\n",
              "      <th>Stock Splits</th>\n",
              "    </tr>\n",
              "    <tr>\n",
              "      <th>Date</th>\n",
              "      <th></th>\n",
              "      <th></th>\n",
              "      <th></th>\n",
              "      <th></th>\n",
              "      <th></th>\n",
              "      <th></th>\n",
              "      <th></th>\n",
              "    </tr>\n",
              "  </thead>\n",
              "  <tbody>\n",
              "    <tr>\n",
              "      <th>1980-12-12</th>\n",
              "      <td>NaN</td>\n",
              "      <td>NaN</td>\n",
              "      <td>NaN</td>\n",
              "      <td>NaN</td>\n",
              "      <td>NaN</td>\n",
              "      <td>NaN</td>\n",
              "      <td>NaN</td>\n",
              "    </tr>\n",
              "    <tr>\n",
              "      <th>1980-12-15</th>\n",
              "      <td>NaN</td>\n",
              "      <td>NaN</td>\n",
              "      <td>NaN</td>\n",
              "      <td>NaN</td>\n",
              "      <td>NaN</td>\n",
              "      <td>NaN</td>\n",
              "      <td>NaN</td>\n",
              "    </tr>\n",
              "    <tr>\n",
              "      <th>1980-12-16</th>\n",
              "      <td>NaN</td>\n",
              "      <td>NaN</td>\n",
              "      <td>NaN</td>\n",
              "      <td>NaN</td>\n",
              "      <td>NaN</td>\n",
              "      <td>NaN</td>\n",
              "      <td>NaN</td>\n",
              "    </tr>\n",
              "    <tr>\n",
              "      <th>1980-12-17</th>\n",
              "      <td>NaN</td>\n",
              "      <td>NaN</td>\n",
              "      <td>NaN</td>\n",
              "      <td>NaN</td>\n",
              "      <td>NaN</td>\n",
              "      <td>NaN</td>\n",
              "      <td>NaN</td>\n",
              "    </tr>\n",
              "    <tr>\n",
              "      <th>1980-12-18</th>\n",
              "      <td>NaN</td>\n",
              "      <td>NaN</td>\n",
              "      <td>NaN</td>\n",
              "      <td>NaN</td>\n",
              "      <td>NaN</td>\n",
              "      <td>NaN</td>\n",
              "      <td>NaN</td>\n",
              "    </tr>\n",
              "    <tr>\n",
              "      <th>...</th>\n",
              "      <td>...</td>\n",
              "      <td>...</td>\n",
              "      <td>...</td>\n",
              "      <td>...</td>\n",
              "      <td>...</td>\n",
              "      <td>...</td>\n",
              "      <td>...</td>\n",
              "    </tr>\n",
              "    <tr>\n",
              "      <th>2021-04-29</th>\n",
              "      <td>131.667001</td>\n",
              "      <td>132.879000</td>\n",
              "      <td>130.435000</td>\n",
              "      <td>131.830500</td>\n",
              "      <td>89000900.0</td>\n",
              "      <td>0.0</td>\n",
              "      <td>0.0</td>\n",
              "    </tr>\n",
              "    <tr>\n",
              "      <th>2021-04-30</th>\n",
              "      <td>132.073001</td>\n",
              "      <td>133.348000</td>\n",
              "      <td>130.864001</td>\n",
              "      <td>132.253501</td>\n",
              "      <td>90732105.0</td>\n",
              "      <td>0.0</td>\n",
              "      <td>0.0</td>\n",
              "    </tr>\n",
              "    <tr>\n",
              "      <th>2021-05-03</th>\n",
              "      <td>132.481500</td>\n",
              "      <td>133.743500</td>\n",
              "      <td>131.302001</td>\n",
              "      <td>132.585500</td>\n",
              "      <td>90056300.0</td>\n",
              "      <td>0.0</td>\n",
              "      <td>0.0</td>\n",
              "    </tr>\n",
              "    <tr>\n",
              "      <th>2021-05-04</th>\n",
              "      <td>132.716000</td>\n",
              "      <td>133.961501</td>\n",
              "      <td>131.354501</td>\n",
              "      <td>132.667500</td>\n",
              "      <td>92916510.0</td>\n",
              "      <td>0.0</td>\n",
              "      <td>0.0</td>\n",
              "    </tr>\n",
              "    <tr>\n",
              "      <th>2021-05-05</th>\n",
              "      <td>132.884500</td>\n",
              "      <td>134.087501</td>\n",
              "      <td>131.496221</td>\n",
              "      <td>132.677501</td>\n",
              "      <td>92803526.7</td>\n",
              "      <td>0.0</td>\n",
              "      <td>0.0</td>\n",
              "    </tr>\n",
              "  </tbody>\n",
              "</table>\n",
              "<p>10185 rows × 7 columns</p>\n",
              "</div>"
            ],
            "text/plain": [
              "                  Open        High  ...  Dividends  Stock Splits\n",
              "Date                                ...                         \n",
              "1980-12-12         NaN         NaN  ...        NaN           NaN\n",
              "1980-12-15         NaN         NaN  ...        NaN           NaN\n",
              "1980-12-16         NaN         NaN  ...        NaN           NaN\n",
              "1980-12-17         NaN         NaN  ...        NaN           NaN\n",
              "1980-12-18         NaN         NaN  ...        NaN           NaN\n",
              "...                ...         ...  ...        ...           ...\n",
              "2021-04-29  131.667001  132.879000  ...        0.0           0.0\n",
              "2021-04-30  132.073001  133.348000  ...        0.0           0.0\n",
              "2021-05-03  132.481500  133.743500  ...        0.0           0.0\n",
              "2021-05-04  132.716000  133.961501  ...        0.0           0.0\n",
              "2021-05-05  132.884500  134.087501  ...        0.0           0.0\n",
              "\n",
              "[10185 rows x 7 columns]"
            ]
          },
          "metadata": {
            "tags": []
          },
          "execution_count": 61
        }
      ]
    },
    {
      "cell_type": "code",
      "metadata": {
        "id": "zXr3NnmWP1bA"
      },
      "source": [
        ""
      ],
      "execution_count": null,
      "outputs": []
    },
    {
      "cell_type": "markdown",
      "metadata": {
        "id": "TMLZtUKnRboQ"
      },
      "source": [
        "# Technical Analysis"
      ]
    },
    {
      "cell_type": "markdown",
      "metadata": {
        "id": "baZNTCE1PxPQ"
      },
      "source": [
        "Transforming the data to something a 2D list instead of a dataframe."
      ]
    },
    {
      "cell_type": "code",
      "metadata": {
        "colab": {
          "base_uri": "https://localhost:8080/"
        },
        "id": "5tLRizfTOVwl",
        "outputId": "9151f9a4-1278-401d-905f-eeea9b29a6c9"
      },
      "source": [
        "col_names = stock_history.columns.tolist()[0:5]\n",
        "data = stock_history.values.tolist()\n",
        "data = [i[0:5] for i in data]\n",
        "print(columns)\n",
        "print(data)"
      ],
      "execution_count": null,
      "outputs": [
        {
          "output_type": "stream",
          "text": [
            "['Open', 'High', 'Low', 'Close', 'Volume']\n",
            "[[107.65837013253402, 111.07866271819474, 107.35241427233233, 108.39218139648438, 308151200.0], [108.58620744901046, 110.23541159902585, 107.84493401518775, 109.11604309082031, 173071600.0], [108.8299822945154, 109.83990081650357, 108.35238173068487, 109.51155090332031, 121776800.0], [109.85233883989576, 113.83977798888438, 109.24788165555212, 113.33232879638672, 202428800.0], [112.8414163311887, 113.30990802823118, 109.93827205693901, 110.7556381225586, 198045600.0], [112.23835506302125, 113.40958429490829, 109.64670714245058, 112.36544799804688, 212403600.0], [111.61037100961165, 112.12122189744775, 108.75706187198737, 109.0237045288086, 187902400.0], [110.14260630066367, 112.91118959645279, 109.94325169428544, 112.64704132080078, 165598000.0], [114.06247077652883, 115.66979474513559, 113.56158228675189, 114.64060974121094, 210082000.0], [114.4611940397687, 114.6306462133451, 112.68192340254448, 114.53844451904297, 165565200.0], [115.6897314394168, 115.71465266560533, 113.59647772271886, 114.2394027709961, 119561600.0], [113.98522476323116, 115.6274324275791, 113.64133161379769, 115.19133758544922, 105633600.0], [115.6099871150639, 116.78619751086369, 115.23868593920298, 115.33586883544922, 145538000.0], [115.37823460682995, 118.0122492609328, 115.36078898808717, 117.89512634277344, 126907200.0], [118.87944905195589, 124.46645023050576, 118.86699224147583, 123.97055053710938, 338054800.0], [128.28414481650628, 128.3713729105021, 123.5394384259069, 125.4532699584961, 345937600.0], [124.29700219666331, 124.77795069152378, 122.65728130278191, 124.42408752441406, 211495600.0], [125.77473590042506, 126.58462631627494, 124.68075719605274, 126.11613464355469, 163022400.0], [126.73414819642663, 127.07554694529018, 123.43477401403983, 124.6084976196289, 155552400.0], [125.60777073674316, 126.03638996941683, 124.17738209503834, 124.40664672851562, 187630000.0], [127.17024698629629, 130.57926098218408, 125.5953197233221, 128.62554931640625, 225702700.0], [132.33360122115192, 134.36705774752693, 130.11076770545884, 133.74903869628906, 151948100.0], [137.14808783736126, 137.53683463561444, 126.59210421497939, 130.97796630859375, 200119000.0], [126.5023917461942, 128.42618563551594, 120.11297585335707, 120.49175262451172, 257599600.0], [119.68436177440819, 123.3027002904606, 110.53384557213992, 120.57150268554688, 332607200.0], [113.58401720738465, 118.60783086289983, 112.31809948537807, 112.45764923095703, 231366600.0], [116.88338666977862, 118.75734575135942, 114.88981026622396, 116.94319152832031, 176940500.0], [119.97343389851443, 120.11298364456499, 112.13867767646109, 113.12549591064453, 182274400.0], [114.20202712225155, 114.85991100391142, 109.64670521872384, 111.6402816772461, 180860300.0], [114.35154285842235, 115.5576556608493, 112.43771135068157, 114.98948669433594, 140150100.0], [117.94995491238772, 118.44834903512589, 113.24511317695692, 115.16891479492188, 184642000.0], [114.8599088506584, 115.62743242664898, 111.68015202536058, 111.76985931396484, 154679000.0], [109.36760711906044, 111.83963770025643, 108.36084886536273, 109.98561096191406, 178011000.0], [110.04542027077996, 110.5238743544317, 105.74925790007353, 106.4968490600586, 287104900.0], [104.20424045921453, 109.83609537065033, 102.76886300224088, 109.72644805908203, 195713800.0], [112.31809039669544, 112.4975125700484, 108.80939941265898, 111.45088195800781, 183055400.0], [111.26151007019132, 111.74993419590955, 106.4270808491858, 106.77596282958984, 150718700.0], [104.83221418327261, 109.89590011344687, 104.66276201280655, 107.87242126464844, 167743300.0], [108.08173969201212, 112.07886231335907, 107.3241785666571, 111.91937255859375, 149981400.0], [114.6406093571057, 114.94961125569107, 112.41776839580879, 114.59076690673828, 137672400.0], [114.18209342055984, 114.93964699076311, 113.20523762071063, 113.72356414794922, 99382200.0], [113.42453282244288, 116.88338917348322, 113.25508064968469, 115.43804168701172, 142675200.0], [117.26216254802887, 117.34190742873226, 115.45797835023438, 116.4148941040039, 116120400.0], [112.52742557458177, 114.99946379480384, 111.85957926845438, 112.6570053100586, 144712000.0], [113.54414621642252, 116.27534372388094, 113.18530186012691, 116.12582397460938, 106243800.0], [115.32838986079243, 115.7470466778397, 111.88947366753264, 112.79655456542969, 161498200.0], [114.25186652297175, 115.17887985561133, 113.76343482816294, 114.71038818359375, 96849000.0], [115.87662618183613, 116.02614593014559, 114.22195414902127, 114.60073852539062, 83477200.0], [114.90974011824221, 116.62421700379845, 114.55089576522391, 116.59431457519531, 100506900.0], [119.67439287590291, 124.77795136898987, 118.89689927058494, 124.00045776367188, 240226800.0], [124.86764910172167, 124.98726641834172, 119.26570452559238, 120.71104431152344, 262330500.0], [120.61137379713806, 122.63485265315053, 119.23580880068336, 120.80076599121094, 150712000.0], [118.33869736582486, 120.81072786491657, 117.77052839100301, 120.32230377197266, 112559200.0], [120.89046924610746, 121.15960631342931, 118.42840122487797, 118.63772583007812, 115393800.0], [119.57471092516373, 120.03323258214479, 115.28852625083283, 115.60749816894531, 120639300.0], [115.82679344798981, 118.59787121511758, 115.2586244406599, 117.1325912475586, 124423700.0], [116.29528195441524, 118.32873087343363, 116.07598732517444, 116.49464416503906, 89946000.0], [117.07277177180089, 117.66088076797968, 114.2219568937856, 115.37823486328125, 101988000.0], [116.01617953471694, 116.17566929918844, 113.91295579631488, 114.67051696777344, 82572600.0], [113.64382791750471, 116.17567092729239, 112.51745235358851, 114.68048858642578, 111850700.0], [115.11907406610139, 116.90332596483336, 114.17212826066233, 116.22550964355469, 92276800.0], [114.68049055616365, 115.05926735126171, 110.74317242798695, 110.84284973144531, 143937800.0], [112.00909331617943, 116.55444509670713, 111.83963354163905, 114.94961547851562, 146129200.0], [110.70329164826492, 111.63030494990427, 107.37402281316912, 108.51036071777344, 190272600.0], [108.75956625545085, 110.32452349928825, 106.97531438045687, 108.420654296875, 122866900.0], [109.30779543806835, 111.13191202723308, 108.3807821267363, 110.08528900146484, 107624400.0], [113.77340689234913, 115.21874677028138, 111.98915506486541, 114.58080291748047, 138235500.0], [117.5711643746384, 119.23580643740482, 116.49463890543673, 118.64769744873047, 126387100.0], [118.1434582580711, 119.02214249610826, 115.95672344832894, 118.51290893554688, 114457900.0], [120.32020192446754, 121.80797656210882, 115.87684481761472, 116.14643859863281, 154515300.0], [115.37759504795174, 117.41454453347052, 113.95970798919319, 115.79696655273438, 138023400.0], [117.01514294945322, 119.45149703918226, 116.26626202630477, 119.31170654296875, 112295000.0], [119.44151928129745, 120.35015752065344, 118.39308292556818, 119.0321273803711, 103162300.0], [119.26178586467934, 119.49143841530626, 117.69412876835943, 119.0820541381836, 81581900.0], [118.74256047617813, 120.80947157383169, 117.97371272673674, 120.1205062866211, 91183000.0], [119.3716255815181, 120.48994958293325, 118.78250194390613, 119.21186065673828, 74271000.0], [118.43302589161148, 119.6412195697394, 117.82393544638843, 117.85388946533203, 76322100.0], [117.41454578657738, 118.88235368699276, 116.63571080709437, 118.46298217773438, 74113000.0], [118.46298034997209, 118.59278363854617, 117.11499616643329, 117.1649169921875, 73604300.0], [117.005155495721, 117.44450140749055, 113.58027310954355, 113.68012237548828, 127959300.0], [113.74003921014095, 115.67713936721066, 112.42200146115039, 114.99815368652344, 113874200.0], [115.37759302382497, 116.57579947875776, 114.99815513928793, 115.85687255859375, 76499200.0], [116.39606407797456, 117.31468950565338, 116.04658784114137, 116.41603088378906, 46691300.0], [116.79546961050283, 120.78950118754383, 116.63570469077608, 118.87236785888672, 169410200.0], [120.82944808681562, 123.28577670778594, 119.8309401457052, 122.53689575195312, 127728200.0], [121.83793111661059, 123.18592288166762, 120.7096199273665, 122.89635467529297, 89004200.0], [123.33569772574727, 123.5953119238826, 122.02765475862292, 122.7565689086914, 78967600.0], [122.41707269315073, 122.67668689223262, 121.3386822828208, 122.06759643554688, 78260400.0], [122.12749957084807, 124.38412957192692, 122.06759153423889, 123.56535339355469, 86712000.0], [124.18443263722241, 124.793523077296, 122.90633610168368, 124.19441223144531, 82225500.0], [124.34418618418464, 125.76206555808128, 120.81945455529613, 121.5982894897461, 115089200.0], [120.32020462303923, 123.68517906327952, 119.97072837387739, 123.05611419677734, 81312200.0], [122.24732276314923, 122.57683219917647, 120.37013064961867, 122.22735595703125, 86939800.0], [122.4170656539128, 123.16594657057786, 121.35864972945625, 121.5982894897461, 79184500.0], [124.15446725515407, 127.70916052005632, 123.94478151263627, 127.6891860961914, 157243700.0], [127.21989614432091, 128.17845520329686, 126.37115832858332, 127.61929321289062, 98208600.0], [128.7076636228698, 129.386656925025, 127.84894621003981, 128.50796508789062, 94359800.0], [128.76758717751528, 128.90737767590872, 125.93182074293927, 126.47101593017578, 192541500.0], [124.83345627606445, 128.11854823306757, 123.26579915304578, 128.03866577148438, 121251600.0], [131.413626138315, 134.20945132274937, 129.4565439384045, 131.6832275390625, 168904800.0], [131.96280910651203, 132.23239527240779, 130.58486331451405, 130.7646026611328, 88223700.0], [131.12406251826343, 133.26086877859598, 130.90438956510596, 131.77308654785156, 54930100.0], [133.7900850619683, 137.13507753676635, 133.31079027833763, 136.48605346679688, 124486200.0], [137.84402540760468, 138.58291153881558, 134.1395542129394, 134.66876220703125, 121047300.0], [135.37770259402348, 135.7870944887121, 133.20094745437817, 133.52047729492188, 96452100.0], [133.87994506641033, 134.5389639567753, 131.52346574245658, 132.4920196533203, 99116600.0]]\n"
          ],
          "name": "stdout"
        }
      ]
    },
    {
      "cell_type": "markdown",
      "metadata": {
        "id": "FYhSD_a5jO9o"
      },
      "source": [
        "Transforming the data back to a dataframe."
      ]
    },
    {
      "cell_type": "code",
      "metadata": {
        "colab": {
          "base_uri": "https://localhost:8080/",
          "height": 419
        },
        "id": "36IrMa4VRo1N",
        "outputId": "fb74cc7c-3a93-436a-b76c-8bfdeb80491b"
      },
      "source": [
        "df = DataFrame(data,columns=col_names)\n",
        "display(df)"
      ],
      "execution_count": null,
      "outputs": [
        {
          "output_type": "display_data",
          "data": {
            "text/html": [
              "<div>\n",
              "<style scoped>\n",
              "    .dataframe tbody tr th:only-of-type {\n",
              "        vertical-align: middle;\n",
              "    }\n",
              "\n",
              "    .dataframe tbody tr th {\n",
              "        vertical-align: top;\n",
              "    }\n",
              "\n",
              "    .dataframe thead th {\n",
              "        text-align: right;\n",
              "    }\n",
              "</style>\n",
              "<table border=\"1\" class=\"dataframe\">\n",
              "  <thead>\n",
              "    <tr style=\"text-align: right;\">\n",
              "      <th></th>\n",
              "      <th>Open</th>\n",
              "      <th>High</th>\n",
              "      <th>Low</th>\n",
              "      <th>Close</th>\n",
              "      <th>Volume</th>\n",
              "    </tr>\n",
              "  </thead>\n",
              "  <tbody>\n",
              "    <tr>\n",
              "      <th>0</th>\n",
              "      <td>107.658370</td>\n",
              "      <td>111.078663</td>\n",
              "      <td>107.352414</td>\n",
              "      <td>108.392181</td>\n",
              "      <td>308151200.0</td>\n",
              "    </tr>\n",
              "    <tr>\n",
              "      <th>1</th>\n",
              "      <td>108.586207</td>\n",
              "      <td>110.235412</td>\n",
              "      <td>107.844934</td>\n",
              "      <td>109.116043</td>\n",
              "      <td>173071600.0</td>\n",
              "    </tr>\n",
              "    <tr>\n",
              "      <th>2</th>\n",
              "      <td>108.829982</td>\n",
              "      <td>109.839901</td>\n",
              "      <td>108.352382</td>\n",
              "      <td>109.511551</td>\n",
              "      <td>121776800.0</td>\n",
              "    </tr>\n",
              "    <tr>\n",
              "      <th>3</th>\n",
              "      <td>109.852339</td>\n",
              "      <td>113.839778</td>\n",
              "      <td>109.247882</td>\n",
              "      <td>113.332329</td>\n",
              "      <td>202428800.0</td>\n",
              "    </tr>\n",
              "    <tr>\n",
              "      <th>4</th>\n",
              "      <td>112.841416</td>\n",
              "      <td>113.309908</td>\n",
              "      <td>109.938272</td>\n",
              "      <td>110.755638</td>\n",
              "      <td>198045600.0</td>\n",
              "    </tr>\n",
              "    <tr>\n",
              "      <th>...</th>\n",
              "      <td>...</td>\n",
              "      <td>...</td>\n",
              "      <td>...</td>\n",
              "      <td>...</td>\n",
              "      <td>...</td>\n",
              "    </tr>\n",
              "    <tr>\n",
              "      <th>101</th>\n",
              "      <td>131.124063</td>\n",
              "      <td>133.260869</td>\n",
              "      <td>130.904390</td>\n",
              "      <td>131.773087</td>\n",
              "      <td>54930100.0</td>\n",
              "    </tr>\n",
              "    <tr>\n",
              "      <th>102</th>\n",
              "      <td>133.790085</td>\n",
              "      <td>137.135078</td>\n",
              "      <td>133.310790</td>\n",
              "      <td>136.486053</td>\n",
              "      <td>124486200.0</td>\n",
              "    </tr>\n",
              "    <tr>\n",
              "      <th>103</th>\n",
              "      <td>137.844025</td>\n",
              "      <td>138.582912</td>\n",
              "      <td>134.139554</td>\n",
              "      <td>134.668762</td>\n",
              "      <td>121047300.0</td>\n",
              "    </tr>\n",
              "    <tr>\n",
              "      <th>104</th>\n",
              "      <td>135.377703</td>\n",
              "      <td>135.787094</td>\n",
              "      <td>133.200947</td>\n",
              "      <td>133.520477</td>\n",
              "      <td>96452100.0</td>\n",
              "    </tr>\n",
              "    <tr>\n",
              "      <th>105</th>\n",
              "      <td>133.879945</td>\n",
              "      <td>134.538964</td>\n",
              "      <td>131.523466</td>\n",
              "      <td>132.492020</td>\n",
              "      <td>99116600.0</td>\n",
              "    </tr>\n",
              "  </tbody>\n",
              "</table>\n",
              "<p>106 rows × 5 columns</p>\n",
              "</div>"
            ],
            "text/plain": [
              "           Open        High         Low       Close       Volume\n",
              "0    107.658370  111.078663  107.352414  108.392181  308151200.0\n",
              "1    108.586207  110.235412  107.844934  109.116043  173071600.0\n",
              "2    108.829982  109.839901  108.352382  109.511551  121776800.0\n",
              "3    109.852339  113.839778  109.247882  113.332329  202428800.0\n",
              "4    112.841416  113.309908  109.938272  110.755638  198045600.0\n",
              "..          ...         ...         ...         ...          ...\n",
              "101  131.124063  133.260869  130.904390  131.773087   54930100.0\n",
              "102  133.790085  137.135078  133.310790  136.486053  124486200.0\n",
              "103  137.844025  138.582912  134.139554  134.668762  121047300.0\n",
              "104  135.377703  135.787094  133.200947  133.520477   96452100.0\n",
              "105  133.879945  134.538964  131.523466  132.492020   99116600.0\n",
              "\n",
              "[106 rows x 5 columns]"
            ]
          },
          "metadata": {
            "tags": []
          }
        }
      ]
    },
    {
      "cell_type": "code",
      "metadata": {
        "id": "PZoL0azsSL1Y"
      },
      "source": [
        ""
      ],
      "execution_count": null,
      "outputs": []
    }
  ]
}