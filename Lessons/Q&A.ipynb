{
 "cells": [
  {
   "cell_type": "markdown",
   "metadata": {},
   "source": [
    "# Classes"
   ]
  },
  {
   "cell_type": "code",
   "execution_count": 23,
   "metadata": {},
   "outputs": [
    {
     "name": "stdout",
     "output_type": "stream",
     "text": [
      "Caleb's car has 4 wheels!\n"
     ]
    }
   ],
   "source": [
    "class Car:\n",
    "    wheel = 4\n",
    "    color = ''\n",
    "    speed = 0\n",
    "    brand = ''\n",
    "    \n",
    "    def setColor(self, color):\n",
    "        self.color = color\n",
    "    def setBrand(self, brand):\n",
    "        self.brand = brand\n",
    "    def setSpeed(self, speed):\n",
    "        self.speed = speed\n",
    "    \n",
    "    \n",
    "calebs_car = Car()\n",
    "\n",
    "print(\"Caleb's car has \" + str(calebs_car.wheel) + \" wheels!\")"
   ]
  },
  {
   "cell_type": "code",
   "execution_count": 24,
   "metadata": {},
   "outputs": [
    {
     "name": "stdout",
     "output_type": "stream",
     "text": [
      "Caleb's is Black\n",
      "Caleb's is going 100\n",
      "Caleb's is a Lincoln\n"
     ]
    }
   ],
   "source": [
    "calebs_car.setColor(\"Black\")\n",
    "calebs_car.setBrand(\"Lincoln\")\n",
    "calebs_car.setSpeed(100)\n",
    "print(\"Caleb's is \" + str(calebs_car.color))\n",
    "print(\"Caleb's is going \" + str(calebs_car.speed))\n",
    "print(\"Caleb's is a \" + str(calebs_car.brand))"
   ]
  },
  {
   "cell_type": "markdown",
   "metadata": {},
   "source": [
    "# Libraries"
   ]
  },
  {
   "cell_type": "code",
   "execution_count": 15,
   "metadata": {},
   "outputs": [
    {
     "data": {
      "text/plain": [
       "2.0"
      ]
     },
     "execution_count": 15,
     "metadata": {},
     "output_type": "execute_result"
    }
   ],
   "source": [
    "import math\n",
    "\n",
    "math.sqrt(4)"
   ]
  },
  {
   "cell_type": "markdown",
   "metadata": {},
   "source": [
    "from math import sqrt\n",
    "\n",
    "sqrt(4)"
   ]
  },
  {
   "cell_type": "markdown",
   "metadata": {},
   "source": [
    "# Initializing classes"
   ]
  },
  {
   "cell_type": "code",
   "execution_count": 41,
   "metadata": {},
   "outputs": [
    {
     "name": "stdout",
     "output_type": "stream",
     "text": [
      "Caleb's is black\n",
      "Caleb's is going 0\n",
      "Caleb's is a lincoln\n"
     ]
    }
   ],
   "source": [
    "class Car:\n",
    "    wheel = 4\n",
    "    color = ''\n",
    "    speed = 0\n",
    "    brand = ''\n",
    "    \n",
    "    def __init__(self,color='',speed=0,brand=''):\n",
    "        self.color = color\n",
    "        self.speed = speed\n",
    "        self.brand = brand\n",
    "       \n",
    "    def setColor(self, color):\n",
    "        self.color = color\n",
    "    def setBrand(self, brand):\n",
    "        self.brand = brand\n",
    "    def setSpeed(self, speed):\n",
    "        self.speed = speed\n",
    "    \n",
    "    def accelerate(self):\n",
    "        self.speed += 1\n",
    "    \n",
    "    \n",
    "calebs_car = Car(color='black',brand='lincoln',speed=30)\n",
    "\n",
    "for i in range(0,100):\n",
    "    calebs_car.accelerate()\n",
    "\n",
    "calebs_car.setSpeed(0)\n",
    "\n",
    "print(\"Caleb's is \" + str(calebs_car.color))\n",
    "print(\"Caleb's is going \" + str(calebs_car.speed))\n",
    "print(\"Caleb's is a \" + str(calebs_car.brand))"
   ]
  },
  {
   "cell_type": "markdown",
   "metadata": {},
   "source": [
    "# Lists"
   ]
  },
  {
   "cell_type": "code",
   "execution_count": 56,
   "metadata": {},
   "outputs": [
    {
     "name": "stdout",
     "output_type": "stream",
     "text": [
      "1\n",
      "5\n",
      "[1, 2, 3]\n"
     ]
    }
   ],
   "source": [
    "a = [1,2,3,4,5]\n",
    "print(a[0])\n",
    "print(a[-1])\n",
    "print(a[0:3])"
   ]
  },
  {
   "cell_type": "code",
   "execution_count": 48,
   "metadata": {},
   "outputs": [
    {
     "name": "stdout",
     "output_type": "stream",
     "text": [
      "[1, 2, 3, 4, 5, 6]\n"
     ]
    }
   ],
   "source": [
    "a.append(6)\n",
    "print(a)"
   ]
  },
  {
   "cell_type": "code",
   "execution_count": 49,
   "metadata": {},
   "outputs": [
    {
     "name": "stdout",
     "output_type": "stream",
     "text": [
      "[1, 2, 3, 4]\n"
     ]
    }
   ],
   "source": [
    "a = a[0:4]\n",
    "print(a)"
   ]
  },
  {
   "cell_type": "code",
   "execution_count": 50,
   "metadata": {},
   "outputs": [
    {
     "name": "stdout",
     "output_type": "stream",
     "text": [
      "[1, 2, 3]\n"
     ]
    }
   ],
   "source": [
    "a = a[0:-1]\n",
    "print(a)"
   ]
  },
  {
   "cell_type": "code",
   "execution_count": 58,
   "metadata": {},
   "outputs": [
    {
     "name": "stdout",
     "output_type": "stream",
     "text": [
      "[1, 2, 3, 4]\n"
     ]
    }
   ],
   "source": [
    "a = a[0:len(a)-1]\n",
    "print(a)"
   ]
  },
  {
   "cell_type": "code",
   "execution_count": 61,
   "metadata": {},
   "outputs": [
    {
     "name": "stdout",
     "output_type": "stream",
     "text": [
      "[2, 5, 9, 11]\n"
     ]
    }
   ],
   "source": [
    "a = [2,9,5,11]\n",
    "a.sort()\n",
    "print(a)"
   ]
  },
  {
   "cell_type": "code",
   "execution_count": 62,
   "metadata": {},
   "outputs": [
    {
     "name": "stdout",
     "output_type": "stream",
     "text": [
      "[11, 9, 5, 2]\n"
     ]
    }
   ],
   "source": [
    "a.sort(reverse=True)\n",
    "print(a)"
   ]
  },
  {
   "cell_type": "code",
   "execution_count": 65,
   "metadata": {},
   "outputs": [
    {
     "name": "stdout",
     "output_type": "stream",
     "text": [
      "27\n",
      "4\n",
      "6.75\n"
     ]
    }
   ],
   "source": [
    "a_sum = sum(a)\n",
    "a_len = len(a)\n",
    "a_avg = a_sum/a_len\n",
    "print(a_sum)\n",
    "print(a_len)\n",
    "print(a_avg)"
   ]
  },
  {
   "cell_type": "code",
   "execution_count": null,
   "metadata": {},
   "outputs": [],
   "source": []
  }
 ],
 "metadata": {
  "kernelspec": {
   "display_name": "Python 3",
   "language": "python",
   "name": "python3"
  },
  "language_info": {
   "codemirror_mode": {
    "name": "ipython",
    "version": 3
   },
   "file_extension": ".py",
   "mimetype": "text/x-python",
   "name": "python",
   "nbconvert_exporter": "python",
   "pygments_lexer": "ipython3",
   "version": "3.8.5"
  }
 },
 "nbformat": 4,
 "nbformat_minor": 4
}
