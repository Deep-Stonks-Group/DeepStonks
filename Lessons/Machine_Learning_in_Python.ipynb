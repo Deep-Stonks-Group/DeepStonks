{
 "cells": [
  {
   "cell_type": "markdown",
   "metadata": {
    "collapsed": true,
    "pycharm": {
     "name": "#%% md\n"
    }
   },
   "source": [
    "# Challenge: **Regression Formula**\n",
    "\n",
    "If you really want a challenge try to implement these formulas yourself! We have already covered all the code needed.\n",
    "\n",
    "Y = aX + b\n",
    "\n",
    "Use the input:\n",
    "```\n",
    "x = [1,2,3,4,5]\n",
    "y = [1,2,3,4,5]\n",
    "```\n",
    "\n",
    "![Screen Shot 2021-05-04 at 4.27.37 PM.png](Unknown.png)\n"
   ]
  },
  {
   "cell_type": "code",
   "execution_count": 2,
   "metadata": {
    "pycharm": {
     "name": "#%%\n"
    }
   },
   "outputs": [
    {
     "name": "stdout",
     "output_type": "stream",
     "text": [
      "Intercept: 1.0\n",
      "Slope: 0.0\n",
      "New Y: 7.0\n"
     ]
    }
   ],
   "source": [
    "# This will get you the intercept (b)\n",
    "def getIntercept(x,y):\n",
    "  n = len(x)\n",
    "  # Calculating the summating of x*y\n",
    "  x_times_y = [i*j for i,j in zip(x,y)]\n",
    "  x_times_y_sum = sum(x_times_y)\n",
    "  # Calculating the summation of x\n",
    "  x_sum = sum(x)\n",
    "  # Calculating the summation of y\n",
    "  y_sum = sum(y)\n",
    "  # Calculating the numerator\n",
    "  numerator = (n*x_times_y_sum) - (x_sum*y_sum)\n",
    "\n",
    "  # Calculating the summation of x^2\n",
    "  x_sqrd = [i*i for i in x]\n",
    "  x_sqrd_sum = sum(x_sqrd)\n",
    "  # Squaring the summation of x\n",
    "  x_sum_sqrd = x_sum ** 2\n",
    "  # Calculating the denomitator\n",
    "  denominator = (n*x_sqrd_sum) - x_sum_sqrd\n",
    "\n",
    "  # Calculating the intercept and returning it.\n",
    "  b = numerator / denominator\n",
    "  return b\n",
    "\n",
    "# Get the slop of the regression line\n",
    "def getSlope(x,y,b):\n",
    "    # Caluclating the sum of x\n",
    "    x_sum = sum(x)\n",
    "    # Calculating the sum of y\n",
    "    y_sum = sum(y)\n",
    "    n = len(x)\n",
    "\n",
    "    #Getting the numerator\n",
    "    numerator = y_sum - (b*x_sum)\n",
    "\n",
    "    #Getting the final a value and returned it.\n",
    "    a = numerator / n\n",
    "    return a\n",
    "\n",
    "# The data\n",
    "x = [1,2,3,4,5]\n",
    "y = [1,2,3,4,5]\n",
    "\n",
    "# Calculating parameters for regression line\n",
    "b = getIntercept(x,y)\n",
    "a = getSlope(x,y,b)\n",
    "print(\"Intercept: \" + str(b))\n",
    "print(\"Slope: \" + str(a))\n",
    "\n",
    "# Using the parameters to get new Y value.\n",
    "def getNewY(X,b,a):\n",
    "  Y = b*X + a\n",
    "  return Y\n",
    "\n",
    "# Passing a new input x value.\n",
    "Y = getNewY(7,b,a)\n",
    "print(\"New Y: \" + str(Y))"
   ]
  },
  {
   "cell_type": "markdown",
   "metadata": {},
   "source": [
    "# **Using Regression to Predict the Stock Market**\n",
    "\n",
    "This is a fun application of the regression line. Regression lines are kind of the most basic form of machine learning. Where you have some input data x. You \"train\" a model on x to make a prediction. It then produces a prediction y.\n",
    "\n",
    "First, the input data is the close price of the 'AAPL' stock:\n",
    "```\n",
    "close_prices = [127.90,130.36,133.00,131.24,134.43]\n",
    "```\n",
    "\n",
    "The labels need to be the next day's closing price:\n",
    "```\n",
    "labels = [130.36,133.00,131.24,134.43]\n",
    "```\n",
    "\n",
    "In the code below, we just offset close_prices by 1 to get these labels. I also needed to remove the last element of the close_prices because it does not have a label:\n",
    "\n",
    "```\n",
    "close_prices = [127.90,130.36,133.00,131.24]\n",
    "```\n",
    "\n",
    "\n",
    "When performing a machine learning task, you typically divide the data into input and test data. To do this I just removed the very last element of the list and we will be using that for testing. In this example x and y are the training data sets. And test_x and test_y are the testing datasets that look like as follows:\n",
    "\n",
    "```\n",
    "x = [127.90,130.36,133.00]\n",
    "y = [130.36,133.00,131.24]\n",
    "test_x = 131.24\n",
    "test_y = 134.43\n",
    "```\n",
    "You can then run getSlope and getInterceps on the x and y data to \"train\" the model and get the a and b parameters. You can the use those parameters to make a prediction. To test how well the model performs we will apply the model to test_x by using test_x as input into the getNewY function. We can then compare the predicted y value from getNewY to the test_y value that was the real value.\n",
    "\n",
    "In this example the values were quite far off, but that is expected due to the small amount of data, and the plainess of the regression model.\n"
   ]
  },
  {
   "cell_type": "code",
   "execution_count": 4,
   "metadata": {
    "pycharm": {
     "name": "#%%\n"
    }
   },
   "outputs": [
    {
     "name": "stdout",
     "output_type": "stream",
     "text": [
      "Close Prices and Labels: \n",
      "[127.9, 130.36, 133.0, 131.24, 134.43]\n",
      "[130.36, 133.0, 131.24, 134.43]\n",
      "\n",
      "X and Y: \n",
      "[127.9, 130.36, 133.0, 131.24]\n",
      "[130.36, 133.0, 131.24, 134.43]\n",
      "\\Test X and Y: \n",
      "131.24\n",
      "134.43\n",
      "\n",
      "New X and Y: \n",
      "[127.9, 130.36, 133.0]\n",
      "[130.36, 133.0, 131.24]\n",
      "\n",
      " Finding the regression\n",
      "Slope: 0.16233167312319133\n",
      "Intercept: 110.36203652460672\n",
      "\n",
      "The prediction\n",
      "Predicted Y: 131.66644530529436\n",
      "Real Y: 134.43\n"
     ]
    }
   ],
   "source": [
    "# Assigning the label to be the next day's close price\n",
    "close_prices = [127.90,130.36,133.00,131.24,134.43]\n",
    "labels = close_prices[1:len(close_prices)]\n",
    "print(\"Close Prices and Labels: \")\n",
    "print(close_prices)\n",
    "print(labels)\n",
    "\n",
    "# Removing the final value from the close price to match the labels.\n",
    "x = close_prices[0:-1]\n",
    "y = labels\n",
    "print(\"\\nX and Y: \")\n",
    "print(x)\n",
    "print(y)\n",
    "\n",
    "# Removing the last value of both x and y so that we can use it later to\n",
    "# test the prediction.\n",
    "test_x = x[-1]\n",
    "test_y = y[-1]\n",
    "print(\"\\Test X and Y: \")\n",
    "print(test_x)\n",
    "print(test_y)\n",
    "x= x[0:-1]\n",
    "y = y[0:-1]\n",
    "print(\"\\nNew X and Y: \")\n",
    "print(x)\n",
    "print(y)\n",
    "\n",
    "# Using previously created functions to get the slope and intercepts\n",
    "print(\"\\n Finding the regression\")\n",
    "b = getIntercept(x,y)\n",
    "a = getSlope(x,y,b)\n",
    "print(\"Slope: \" + str(b))\n",
    "print(\"Intercept: \" + str(a))\n",
    "# Testing the regression on the test data\n",
    "print(\"\\nThe prediction\")\n",
    "Y = getNewY(test_x,b,a)\n",
    "print(\"Predicted Y: \" + str(Y))\n",
    "print(\"Real Y: \" + str(test_y))"
   ]
  },
  {
   "cell_type": "markdown",
   "metadata": {
    "pycharm": {
     "name": "#%% md\n"
    }
   },
   "source": [
    "# Sklearn"
   ]
  },
  {
   "cell_type": "code",
   "execution_count": 5,
   "metadata": {
    "pycharm": {
     "name": "#%%\n"
    }
   },
   "outputs": [],
   "source": [
    "import matplotlib.pyplot as plt\n",
    "import numpy as np\n",
    "from sklearn import datasets, linear_model\n",
    "from sklearn.metrics import mean_squared_error, r2_score"
   ]
  },
  {
   "cell_type": "code",
   "execution_count": 10,
   "metadata": {
    "pycharm": {
     "name": "#%%\n"
    }
   },
   "outputs": [],
   "source": [
    "# Same data loading as before\n",
    "close_prices = [127.90,130.36,133.00,131.24,134.43]\n",
    "labels = close_prices[1:len(close_prices)]\n",
    "x = close_prices[0:-1]\n",
    "y = labels\n",
    "test_x = x[-1]\n",
    "test_y = y[-1]\n",
    "x= x[0:-1]\n",
    "y = y[0:-1]\n",
    "\n",
    "\n",
    "x = [[i] for i in x]\n",
    "test_x = [[test_x]]\n",
    "# Create linear regression object\n",
    "regr = linear_model.LinearRegression()\n",
    "\n",
    "# Train the model using the training sets\n",
    "regr.fit(x, y)\n",
    "\n",
    "# Make predictions using the testing set\n",
    "y_pred = regr.predict(test_x)"
   ]
  },
  {
   "cell_type": "code",
   "execution_count": null,
   "metadata": {
    "pycharm": {
     "name": "#%%\n"
    }
   },
   "outputs": [],
   "source": []
  }
 ],
 "metadata": {
  "kernelspec": {
   "display_name": "Python 3",
   "language": "python",
   "name": "python3"
  },
  "language_info": {
   "codemirror_mode": {
    "name": "ipython",
    "version": 3
   },
   "file_extension": ".py",
   "mimetype": "text/x-python",
   "name": "python",
   "nbconvert_exporter": "python",
   "pygments_lexer": "ipython3",
   "version": "3.8.5"
  }
 },
 "nbformat": 4,
 "nbformat_minor": 1
}
