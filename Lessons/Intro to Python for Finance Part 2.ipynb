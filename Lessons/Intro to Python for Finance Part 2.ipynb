{
 "cells": [
  {
   "cell_type": "markdown",
   "metadata": {},
   "source": [
    "# Getting and Formatting Data"
   ]
  },
  {
   "cell_type": "code",
   "execution_count": 1,
   "metadata": {},
   "outputs": [],
   "source": [
    "import yfinance as yf\n",
    "from datetime import datetime\n",
    "from pandas import DataFrame\n",
    "\n",
    "symb = 'AAPL'\n",
    "stock = yf.Ticker(symb)\n",
    "start_date =\"2020-08-01\"\n",
    "end_date = \"2021-01-01\"\n",
    "stock_history = stock.history(start=start_date,end=end_date)"
   ]
  },
  {
   "cell_type": "markdown",
   "metadata": {},
   "source": [
    "## Convert code to list"
   ]
  },
  {
   "cell_type": "code",
   "execution_count": 6,
   "metadata": {},
   "outputs": [
    {
     "name": "stdout",
     "output_type": "stream",
     "text": [
      "['Open', 'High', 'Low', 'Close', 'Volume']\n"
     ]
    }
   ],
   "source": [
    "col_names = stock_history.columns.tolist()[0:5]\n",
    "data = stock_history.values.tolist()\n",
    "data = [i[0:5] for i in data]\n",
    "print(col_names)"
   ]
  },
  {
   "cell_type": "markdown",
   "metadata": {},
   "source": [
    "# Using TA-Lib for Technical Analysis"
   ]
  },
  {
   "cell_type": "markdown",
   "metadata": {},
   "source": [
    "## Getting a formatting data"
   ]
  },
  {
   "cell_type": "markdown",
   "metadata": {},
   "source": [
    "TA-lib only needs some of the data depending on the function, so it needs to be split up into individual variables."
   ]
  },
  {
   "cell_type": "code",
   "execution_count": 33,
   "metadata": {},
   "outputs": [
    {
     "name": "stdout",
     "output_type": "stream",
     "text": [
      "[108.20838928222656, 108.93101501464844, 109.32585144042969, 113.14015197753906, 110.56783294677734, 112.17491149902344, 108.83883666992188, 112.45602416992188, 114.44621276855469, 114.34422302246094, 114.04568481445312, 114.99600982666016, 115.14029693603516, 117.6952133178711, 123.76033782958984, 125.24053955078125, 124.21310424804688, 125.90228271484375, 124.39720153808594, 124.19569396972656, 128.40744018554688, 133.52224731445312, 130.75587463378906, 120.28743743896484, 120.36705017089844, 112.26695251464844, 116.74488830566406, 112.93367004394531, 111.45097351074219, 114.79450225830078, 114.97362518310547, 111.58032989501953, 109.79911041259766, 106.3162612915039, 109.5403823852539, 111.26189422607422, 106.59490203857422, 107.68950653076172, 111.7295913696289, 114.39645385742188, 113.53072357177734, 115.24229431152344, 116.21749114990234, 112.46597290039062, 115.92890930175781, 112.60528564453125, 114.51587677001953, 114.40641021728516, 116.3966064453125, 123.79019165039062, 120.50635528564453, 120.5959243774414, 120.11827087402344, 118.43655395507812, 115.41146087646484, 116.93396759033203, 116.29710388183594, 115.18258666992188, 114.47607421875, 114.48602294921875, 116.02842712402344, 110.65489196777344, 114.75469970703125, 108.32636260986328, 108.23680877685547, 109.89862060546875, 114.38651275634766, 118.4465103149414, 118.31195068359375, 115.94949340820312, 115.6006088256836, 119.10939025878906, 118.83028411865234, 118.880126953125, 119.91681671142578, 119.00971221923828, 117.65404510498047, 118.2621078491211, 116.96623992919922, 113.48735809326172, 114.80315399169922, 115.66041564941406, 116.2186279296875, 118.6707992553711, 122.32910919189453, 122.68795776367188, 122.54840850830078, 121.86061096191406, 123.35582733154297, 123.98381805419922, 121.39209747314453, 122.84745025634766, 122.02009582519531, 121.39209747314453, 127.47266387939453, 127.40289306640625, 128.29005432128906, 126.25656127929688, 127.82154846191406, 131.45993041992188, 130.54286193847656, 131.5496368408203, 136.25460815429688, 134.44039916992188, 133.2940673828125, 132.26734924316406]\n"
     ]
    }
   ],
   "source": [
    "import talib as ta\n",
    "\n",
    "open_prices = [i[0] for i in data]\n",
    "high_prices = [i[1] for i in data]\n",
    "low_prices = [i[2] for i in data]\n",
    "close_prices = [i[3] for i in data]\n",
    "volumes = [i[4] for i in data]\n",
    "\n",
    "print(close_prices)"
   ]
  },
  {
   "cell_type": "markdown",
   "metadata": {},
   "source": [
    "### Now we need to convert the lists to a numpy array"
   ]
  },
  {
   "cell_type": "code",
   "execution_count": 34,
   "metadata": {},
   "outputs": [],
   "source": [
    "import numpy as np\n",
    "\n",
    "open_prices = np.asarray(open_prices)\n",
    "high_prices = np.asarray(high_prices)\n",
    "low_prices = np.asarray(low_prices)\n",
    "close_prices = np.asarray(close_prices)\n",
    "volumes = np.asarray(volumes)"
   ]
  },
  {
   "cell_type": "markdown",
   "metadata": {},
   "source": [
    "## TA Lib"
   ]
  },
  {
   "cell_type": "markdown",
   "metadata": {},
   "source": [
    "Ta-Lib has a function called \"get_functions\" that will show the functions you can use."
   ]
  },
  {
   "cell_type": "code",
   "execution_count": 36,
   "metadata": {},
   "outputs": [
    {
     "data": {
      "text/plain": [
       "['HT_DCPERIOD',\n",
       " 'HT_DCPHASE',\n",
       " 'HT_PHASOR',\n",
       " 'HT_SINE',\n",
       " 'HT_TRENDMODE',\n",
       " 'ADD',\n",
       " 'DIV',\n",
       " 'MAX',\n",
       " 'MAXINDEX',\n",
       " 'MIN',\n",
       " 'MININDEX',\n",
       " 'MINMAX',\n",
       " 'MINMAXINDEX',\n",
       " 'MULT',\n",
       " 'SUB',\n",
       " 'SUM',\n",
       " 'ACOS',\n",
       " 'ASIN',\n",
       " 'ATAN',\n",
       " 'CEIL',\n",
       " 'COS',\n",
       " 'COSH',\n",
       " 'EXP',\n",
       " 'FLOOR',\n",
       " 'LN',\n",
       " 'LOG10',\n",
       " 'SIN',\n",
       " 'SINH',\n",
       " 'SQRT',\n",
       " 'TAN',\n",
       " 'TANH',\n",
       " 'ADX',\n",
       " 'ADXR',\n",
       " 'APO',\n",
       " 'AROON',\n",
       " 'AROONOSC',\n",
       " 'BOP',\n",
       " 'CCI',\n",
       " 'CMO',\n",
       " 'DX',\n",
       " 'MACD',\n",
       " 'MACDEXT',\n",
       " 'MACDFIX',\n",
       " 'MFI',\n",
       " 'MINUS_DI',\n",
       " 'MINUS_DM',\n",
       " 'MOM',\n",
       " 'PLUS_DI',\n",
       " 'PLUS_DM',\n",
       " 'PPO',\n",
       " 'ROC',\n",
       " 'ROCP',\n",
       " 'ROCR',\n",
       " 'ROCR100',\n",
       " 'RSI',\n",
       " 'STOCH',\n",
       " 'STOCHF',\n",
       " 'STOCHRSI',\n",
       " 'TRIX',\n",
       " 'ULTOSC',\n",
       " 'WILLR',\n",
       " 'BBANDS',\n",
       " 'DEMA',\n",
       " 'EMA',\n",
       " 'HT_TRENDLINE',\n",
       " 'KAMA',\n",
       " 'MA',\n",
       " 'MAMA',\n",
       " 'MAVP',\n",
       " 'MIDPOINT',\n",
       " 'MIDPRICE',\n",
       " 'SAR',\n",
       " 'SAREXT',\n",
       " 'SMA',\n",
       " 'T3',\n",
       " 'TEMA',\n",
       " 'TRIMA',\n",
       " 'WMA',\n",
       " 'CDL2CROWS',\n",
       " 'CDL3BLACKCROWS',\n",
       " 'CDL3INSIDE',\n",
       " 'CDL3LINESTRIKE',\n",
       " 'CDL3OUTSIDE',\n",
       " 'CDL3STARSINSOUTH',\n",
       " 'CDL3WHITESOLDIERS',\n",
       " 'CDLABANDONEDBABY',\n",
       " 'CDLADVANCEBLOCK',\n",
       " 'CDLBELTHOLD',\n",
       " 'CDLBREAKAWAY',\n",
       " 'CDLCLOSINGMARUBOZU',\n",
       " 'CDLCONCEALBABYSWALL',\n",
       " 'CDLCOUNTERATTACK',\n",
       " 'CDLDARKCLOUDCOVER',\n",
       " 'CDLDOJI',\n",
       " 'CDLDOJISTAR',\n",
       " 'CDLDRAGONFLYDOJI',\n",
       " 'CDLENGULFING',\n",
       " 'CDLEVENINGDOJISTAR',\n",
       " 'CDLEVENINGSTAR',\n",
       " 'CDLGAPSIDESIDEWHITE',\n",
       " 'CDLGRAVESTONEDOJI',\n",
       " 'CDLHAMMER',\n",
       " 'CDLHANGINGMAN',\n",
       " 'CDLHARAMI',\n",
       " 'CDLHARAMICROSS',\n",
       " 'CDLHIGHWAVE',\n",
       " 'CDLHIKKAKE',\n",
       " 'CDLHIKKAKEMOD',\n",
       " 'CDLHOMINGPIGEON',\n",
       " 'CDLIDENTICAL3CROWS',\n",
       " 'CDLINNECK',\n",
       " 'CDLINVERTEDHAMMER',\n",
       " 'CDLKICKING',\n",
       " 'CDLKICKINGBYLENGTH',\n",
       " 'CDLLADDERBOTTOM',\n",
       " 'CDLLONGLEGGEDDOJI',\n",
       " 'CDLLONGLINE',\n",
       " 'CDLMARUBOZU',\n",
       " 'CDLMATCHINGLOW',\n",
       " 'CDLMATHOLD',\n",
       " 'CDLMORNINGDOJISTAR',\n",
       " 'CDLMORNINGSTAR',\n",
       " 'CDLONNECK',\n",
       " 'CDLPIERCING',\n",
       " 'CDLRICKSHAWMAN',\n",
       " 'CDLRISEFALL3METHODS',\n",
       " 'CDLSEPARATINGLINES',\n",
       " 'CDLSHOOTINGSTAR',\n",
       " 'CDLSHORTLINE',\n",
       " 'CDLSPINNINGTOP',\n",
       " 'CDLSTALLEDPATTERN',\n",
       " 'CDLSTICKSANDWICH',\n",
       " 'CDLTAKURI',\n",
       " 'CDLTASUKIGAP',\n",
       " 'CDLTHRUSTING',\n",
       " 'CDLTRISTAR',\n",
       " 'CDLUNIQUE3RIVER',\n",
       " 'CDLUPSIDEGAP2CROWS',\n",
       " 'CDLXSIDEGAP3METHODS',\n",
       " 'AVGPRICE',\n",
       " 'MEDPRICE',\n",
       " 'TYPPRICE',\n",
       " 'WCLPRICE',\n",
       " 'BETA',\n",
       " 'CORREL',\n",
       " 'LINEARREG',\n",
       " 'LINEARREG_ANGLE',\n",
       " 'LINEARREG_INTERCEPT',\n",
       " 'LINEARREG_SLOPE',\n",
       " 'STDDEV',\n",
       " 'TSF',\n",
       " 'VAR',\n",
       " 'ATR',\n",
       " 'NATR',\n",
       " 'TRANGE',\n",
       " 'AD',\n",
       " 'ADOSC',\n",
       " 'OBV']"
      ]
     },
     "execution_count": 36,
     "metadata": {},
     "output_type": "execute_result"
    }
   ],
   "source": [
    "ta.get_functions()"
   ]
  },
  {
   "cell_type": "markdown",
   "metadata": {},
   "source": [
    "## SMAs"
   ]
  },
  {
   "cell_type": "markdown",
   "metadata": {},
   "source": [
    "Lets get a simple moving average"
   ]
  },
  {
   "cell_type": "markdown",
   "metadata": {},
   "source": [
    "### 5-Day SMA"
   ]
  },
  {
   "cell_type": "code",
   "execution_count": 37,
   "metadata": {},
   "outputs": [
    {
     "name": "stdout",
     "output_type": "stream",
     "text": [
      "[         nan          nan          nan          nan 110.03464813\n",
      " 110.82795258 110.80951691 111.43555145 111.69676361 112.45204163\n",
      " 112.82619629 114.05763092 114.59448547 115.24428558 117.12750854\n",
      " 119.36647949 121.20989838 123.36229553 124.70269318 124.7897644\n",
      " 125.42314453 127.28497314 128.25569153 127.43373871 126.66800995\n",
      " 123.43991241 120.08444061 116.51999969 114.75270691 113.63819733\n",
      " 114.17953186 113.14662018 112.51970825 111.49276581 110.44194183\n",
      " 109.69959564 108.70251007 108.28058929 109.36325531 110.3344696\n",
      " 110.78823547 112.51771393 114.22331085 114.37058716 114.67707825\n",
      " 114.49199066 114.34670715 113.98449097 114.77061768 116.34287415\n",
      " 117.92308807 119.1390976  120.28146973 120.68945923 119.01371307\n",
      " 118.29923553 117.43947144 116.45233459 115.66023865 115.47515106\n",
      " 115.29404297 114.16560059 114.08002319 112.85008087 111.60023804\n",
      " 110.37427673 111.12060089 111.85896301 113.85608063 115.39861755\n",
      " 116.5390152  117.4835907  117.56034546 117.67398071 118.46744537\n",
      " 119.14926605 118.85819702 118.74456177 118.36178436 117.07589264\n",
      " 116.23458099 115.8358551  115.42715912 115.76807098 117.5364212\n",
      " 119.11338196 120.49098053 121.61937714 122.55638275 122.88732452\n",
      " 122.62815247 122.68796082 122.71985779 122.32711182 123.02488098\n",
      " 124.2270401  125.31556091 126.162854   127.4487442  128.24619751\n",
      " 128.87419128 129.52610779 131.52571716 132.8494873  133.2163147\n",
      " 133.56121216]\n"
     ]
    }
   ],
   "source": [
    "sma = ta.SMA(close_prices,5)\n",
    "print(sma)"
   ]
  },
  {
   "cell_type": "markdown",
   "metadata": {},
   "source": [
    "### 25 Day SMA"
   ]
  },
  {
   "cell_type": "code",
   "execution_count": 38,
   "metadata": {},
   "outputs": [
    {
     "name": "stdout",
     "output_type": "stream",
     "text": [
      "[         nan          nan          nan          nan          nan\n",
      "          nan          nan          nan          nan          nan\n",
      "          nan          nan          nan          nan          nan\n",
      "          nan          nan          nan          nan          nan\n",
      "          nan          nan          nan          nan 118.21439453\n",
      " 118.37673706 118.68929199 118.83360474 118.7660376  118.93510437\n",
      " 119.04705292 119.15671265 119.0504361  118.72523804 118.53308441\n",
      " 118.42173279 118.08568848 117.78765686 117.54903198 117.17447662\n",
      " 116.70608398 116.34725159 115.95985992 115.48261078 115.15193939\n",
      " 114.51985321 113.75959839 113.10561981 112.94998657 113.08691223\n",
      " 113.41648834 113.57052979 113.85791382 114.13733704 114.16201538\n",
      " 114.24042908 114.42910004 114.64443909 114.9708316  115.16865723\n",
      " 115.35931854 115.52171814 115.80432587 115.66819672 115.42181091\n",
      " 115.27652679 115.24229553 115.3314563  115.56529541 115.56611877\n",
      " 115.6859317  115.86967224 116.0466272  116.14596802 115.99103302\n",
      " 115.9311673  115.81349213 115.73924561 115.68043304 115.60346893\n",
      " 115.51823639 115.49276886 115.53421051 115.70199951 116.01572296\n",
      " 116.28210419 116.75784485 117.0420813  117.64325989 118.27314026\n",
      " 118.73287933 119.07131683 119.21426025 119.33746613 119.79839294\n",
      " 120.27048431 120.63771088 120.93476196 121.29241882 121.75414337\n",
      " 122.21546936 122.77129303 123.49099304 124.18995941 124.98222778\n",
      " 125.68079559]\n"
     ]
    }
   ],
   "source": [
    "sma = ta.SMA(close_prices,25)\n",
    "print(sma)"
   ]
  },
  {
   "cell_type": "markdown",
   "metadata": {},
   "source": [
    "### 100 Day SMA"
   ]
  },
  {
   "cell_type": "code",
   "execution_count": 39,
   "metadata": {},
   "outputs": [
    {
     "name": "stdout",
     "output_type": "stream",
     "text": [
      "[         nan          nan          nan          nan          nan\n",
      "          nan          nan          nan          nan          nan\n",
      "          nan          nan          nan          nan          nan\n",
      "          nan          nan          nan          nan          nan\n",
      "          nan          nan          nan          nan          nan\n",
      "          nan          nan          nan          nan          nan\n",
      "          nan          nan          nan          nan          nan\n",
      "          nan          nan          nan          nan          nan\n",
      "          nan          nan          nan          nan          nan\n",
      "          nan          nan          nan          nan          nan\n",
      "          nan          nan          nan          nan          nan\n",
      "          nan          nan          nan          nan          nan\n",
      "          nan          nan          nan          nan          nan\n",
      "          nan          nan          nan          nan          nan\n",
      "          nan          nan          nan          nan          nan\n",
      "          nan          nan          nan          nan          nan\n",
      "          nan          nan          nan          nan          nan\n",
      "          nan          nan          nan          nan          nan\n",
      "          nan          nan          nan          nan          nan\n",
      "          nan          nan          nan          nan 117.26162079\n",
      " 117.48496552 117.71115173 117.9804393  118.19344177 118.42070412\n",
      " 118.62162849]\n"
     ]
    }
   ],
   "source": [
    "sma = ta.SMA(close_prices,100)\n",
    "print(sma)"
   ]
  },
  {
   "cell_type": "markdown",
   "metadata": {},
   "source": [
    "### Lets make a simple algorithm for predicting the stock market using SMA's"
   ]
  },
  {
   "cell_type": "markdown",
   "metadata": {},
   "source": [
    "First let's get all apple historical close prices."
   ]
  },
  {
   "cell_type": "code",
   "execution_count": 68,
   "metadata": {},
   "outputs": [],
   "source": [
    "aapl_history = stock.history(period=\"max\")\n",
    "col_names = aapl_history.columns.tolist()[0:5]\n",
    "data = aapl_history.values.tolist()\n",
    "close_prices = [i[3] for i in data]\n",
    "close_prices = np.asarray(close_prices)"
   ]
  },
  {
   "cell_type": "markdown",
   "metadata": {},
   "source": [
    "#### Now let's get a shorter-term moving average and a longer term moving average"
   ]
  },
  {
   "cell_type": "code",
   "execution_count": 120,
   "metadata": {},
   "outputs": [
    {
     "name": "stdout",
     "output_type": "stream",
     "text": [
      "[         nan          nan          nan ... 118.78336223 118.85785611\n",
      " 118.91747941]\n"
     ]
    }
   ],
   "source": [
    "sma_short = ta.SMA(close_prices,50)\n",
    "sma_long = ta.EMA(close_prices,200)\n",
    "print(sma_long)"
   ]
  },
  {
   "cell_type": "markdown",
   "metadata": {},
   "source": [
    "#### Now let's remove the first 199 data points since they are not valid."
   ]
  },
  {
   "cell_type": "code",
   "execution_count": 121,
   "metadata": {},
   "outputs": [
    {
     "name": "stdout",
     "output_type": "stream",
     "text": [
      "9006\n",
      "9006\n",
      "9006\n"
     ]
    }
   ],
   "source": [
    "start_idx = 198\n",
    "sma_short = sma_short[start_idx:len(sma_short)]\n",
    "sma_long = sma_long[start_idx:len(sma_long)]\n",
    "close_prices = close_prices[start_idx:len(close_prices)]\n",
    "print(len(sma_short))\n",
    "print(len(sma_long))\n",
    "print(len(close_prices))"
   ]
  },
  {
   "cell_type": "markdown",
   "metadata": {},
   "source": [
    "#### Creating an list to represent buy/sell decisions.\n",
    "\n",
    "One simple strategy for investing is to make a buy when the short term moving average moves above the long term moving average. Then sell when the short term falls back below the long term. \n",
    "\n",
    "We will attempt to create a list that represents this, by containing a 0 on the days it should hold, a one on the days it should buy and -1 on the days it should sell. We will avoid using list comprehension for simplicity."
   ]
  },
  {
   "cell_type": "code",
   "execution_count": 122,
   "metadata": {},
   "outputs": [
    {
     "name": "stdout",
     "output_type": "stream",
     "text": [
      "[0, 0, 0, 0, 0, 0, 0, 0, 0, 0, 0, 0, 0, 0, 0, 0, 0, 0, 0, 0, 0, 0, 0, 0, 0, 0, 0, 0, 0, 0, 0, 0, 0, 0, 0, 0, 0, 0, 0, 0, 0, 0, 0, 0, 0, 0, 0, 0, 0, 0, 0, 0, 0, 0, 0, 0, 0, 0, 0, 0, 0, 0, 0, 0, 0, 0, 0, 0, 0, 0, 0, 0, 0, 0, 0, 0, 0, 0, 0, 0, 0, 0, 0, 0, 0, 0, 0, 0, 0, 0, 0, 0, 1, 0, 0, 0, 0, 0, 0, 0, 0, 0, 0, 0, 0, 0, 0, 0, 0, 0, 0, 0, 0, 0, 0, 0, 0, 0, 0, 0, 0, 0, 0, 0, 0, 0, 0, 0, 0, 0, 0, 0, 0, 0, 0, 0, 0, 0, 0, 0, 0, 0, 0, 0, 0, 0, 0, 0, 0, 0, 0, 0, 0, 0, 0, 0, 0, 0, 0, 0, 0, 0, 0, 0, 0, 0, 0, 0, 0, 0, 0, 0, 0, 0, 0, 0, 0, 0, 0, 0, 0, 0, 0, 0, 0, 0, 0, 0, 0, 0, 0, 0, 0, 0, 0, 0, 0, 0, 0, 0, 0, 0, 0, 0, 0, 0, 0, 0, 0, 0, 0, 0, 0, 0, 0, 0, 0, 0, 0, 0, 0, 0, 0, 0, 0, 0, 0, 0, 0, 0, 0, 0, 0, 0, 0, 0, 0, 0, 0, 0, 0, 0, 0, 0, 0, 0, 0, 0, 0, 0, 0, 0, 0, 0, 0, 0, 0, 0, 0, 0, 0, 0, 0, 0, 0, 0, 0, 0, 0, 0, 0, 0, 0, 0, 0, 0, 0, 0, 0, 0, 0, 0, 0, 0, 0, 0, 0, 0, 0, 0, 0, 0, 0, 0, 0, 0, 0, 0, 0, 0, 0, 0, 0, 0, 0, 0, 0, 0, 0, 0, 0, 0, 0, 0, 0, 0, 0, 0, 0, 0, 0, 0, 0, 0, 0, 0, 0, 0, 0, 0, 0, 0, 0, 0, 0, 0, 0, 0, 0, 0, 0, 0, 0, 0, 0, 0, 0, 0, 0, 0, 0, 0, 0, 0, 0, 0, 0, 0, 0, 0, 0, 0, 0, 0, 0, 0, 0, 0, 0, 0, 0, 0, 0, 0, 0, 0, 0, 0, 0, 0, 0, 0, 0, 0, 0, 0, 0, 0, 0, 0, 0, 0, 0, 0, 0, 0, 0, 0, 0, 0, 0, 0, 0, 0, 0, 0, 0, 0, 0, 0, 0, 0, 0, 0, 0, 0, 0, 0, 0, 0, 0, 0, 0, 0, 0, 0, 0, 0, 0, 0, 0, 0, 0, 0, 0, 0, 0, 0, 0, 0, 0, 0, 0, 0, 0, 0, 0, 0, 0, 0, 0, 0, 0, 0, 0, 0, 0, 0, 0, 0, 0, 0, 0, 0, 0, 0, 0, 0, 0, 0, 0, 0, 0, 0, 0, 0, 0, 0, 0, 0, 0, 0, 0, 0, 0, 0, 0, 0, 0, 0, 0, 0, 0, 0, 0, 0, 0, 0, 0, 0]\n",
      "9006\n",
      "9006\n"
     ]
    }
   ],
   "source": [
    "length = len(close_prices)\n",
    "decision_lst = []\n",
    "buy = False\n",
    "sell = True\n",
    "\n",
    "for i in range(0,length):\n",
    "    short = sma_short[i]\n",
    "    long = sma_long[i]\n",
    "    \n",
    "    if (short >= long) and buy == False:\n",
    "        buy = True\n",
    "        sell = False\n",
    "        decision_lst.append(1)\n",
    "    elif (short < long) and sell == False:\n",
    "        sell = True\n",
    "        buy = False\n",
    "        decision_lst.append(-1)\n",
    "    else:\n",
    "        \n",
    "        decision_lst.append(0)\n",
    "\n",
    "print(decision_lst[0:500])\n",
    "print(len(decision_lst))\n",
    "print(len(close_prices))"
   ]
  },
  {
   "cell_type": "markdown",
   "metadata": {},
   "source": [
    "#### Calculating returns\n",
    "\n",
    "Now lets use the decision list to calculate the returns. We will need to keep track of the current bought price and compare it to the previous sell price to figure this out. We will then sum the return list to get the total returns."
   ]
  },
  {
   "cell_type": "code",
   "execution_count": 123,
   "metadata": {},
   "outputs": [
    {
     "name": "stdout",
     "output_type": "stream",
     "text": [
      "11.309757900815983\n"
     ]
    }
   ],
   "source": [
    "decision_lst = np.asarray(decision_lst)\n",
    "bought_price=0\n",
    "returns_list = []\n",
    "\n",
    "for i in range(0,length):\n",
    "    decision = decision_lst[i]\n",
    "    rtrn = 0\n",
    "    close = close_prices[i]\n",
    "    if decision == 1:\n",
    "        bought_price = close\n",
    "    elif decision == -1:\n",
    "        rtrn = (close - bought_price) / bought_price\n",
    "    returns_list.append(rtrn)\n",
    "\n",
    "total_rtrn = sum(returns_list)\n",
    "print(total_rtrn)"
   ]
  },
  {
   "cell_type": "markdown",
   "metadata": {},
   "source": [
    "## RSIs\n",
    "\n",
    "Now let's take a look at RSIs."
   ]
  },
  {
   "cell_type": "code",
   "execution_count": 135,
   "metadata": {},
   "outputs": [
    {
     "name": "stdout",
     "output_type": "stream",
     "text": [
      "[        nan         nan         nan ... 47.22225271 44.92640295\n",
      " 42.26351595]\n"
     ]
    }
   ],
   "source": [
    "rsi = ta.RSI(close_prices)\n",
    "print(rsi)"
   ]
  },
  {
   "cell_type": "markdown",
   "metadata": {},
   "source": [
    "#### Now let's try to use RSIs"
   ]
  },
  {
   "cell_type": "code",
   "execution_count": 145,
   "metadata": {},
   "outputs": [],
   "source": [
    "aapl_history = stock.history(period=\"max\")\n",
    "col_names = aapl_history.columns.tolist()[0:5]\n",
    "data = aapl_history.values.tolist()\n",
    "close_prices = [i[3] for i in data]\n",
    "close_prices = np.asarray(close_prices)"
   ]
  },
  {
   "cell_type": "code",
   "execution_count": 146,
   "metadata": {},
   "outputs": [
    {
     "name": "stdout",
     "output_type": "stream",
     "text": [
      "10180\n",
      "10180\n"
     ]
    }
   ],
   "source": [
    "start_idx = 14\n",
    "\n",
    "rsi_list = ta.RSI(close_prices)\n",
    "rsi_list = rsi_list[start_idx:len(rsi_list)]\n",
    "close_prices = close_prices[start_idx:len(close_prices)]\n",
    "print(len(rsi_list))\n",
    "print(len(close_prices))"
   ]
  },
  {
   "cell_type": "code",
   "execution_count": 199,
   "metadata": {
    "scrolled": false
   },
   "outputs": [
    {
     "name": "stdout",
     "output_type": "stream",
     "text": [
      "[0, 0, 0, 0, 0, 0, 0, 0, 0, 0, 0, 0, 0, 0, 0, 0, 0, 0, 0, 0, 0, 0, 0, 0, 0, 0, 0, 0, 0, 0, 0, 0, 0, 0, 0, 0, 0, 0, 0, 0, 0, 0, 0, 0, 0, 0, 1, 0, 0, 0, 0, 0, 0, 0, 0, 0, 0, 0, 0, 0, 0, 0, 0, 0, 0, 0, 0, 0, 0, 0, 0, 0, 0, 0, 0, 0, 0, 0, 0, 0, 0, 0, 0, 0, 0, 0, 0, 0, 0, 0, 0, 0, 0, 0, 0, 0, 0, 0, 0, 0, 0, 0, 0, 0, 0, 0, 0, 0, 0, 0, 0, 0, 0, 0, 0, 0, 0, 0, 0, 0, 0, 0, 0, 0, 0, 0, 0, 0, 0, 0, 0, 0, 0, 0, 0, 0, 0, 0, 0, 0, 0, 0, 0, 0, 0, 0, 0, 0, 0, 0, 0, 0, 0, 0, 0, 0, 0, 0, 0, 0, 0, 0, 0, 0, 0, 0, 0, 0, 0, 0, 0, 0, 0, 0, 0, 0, 0, 0, 0, 0, 0, 0, 0, 0, 0, 0, 0, 0, 0, 0, 0, 0, 0, 0, 0, 0, 0, 0, 0, 0, 0, 0, 0, 0, 0, 0, 0, 0, 0, 0, 0, 0, 0, 0, 0, 0, 0, 0, 0, 0, 0, 0, 0, 0, 0, 0, 0, 0, 0, 0, 0, 0, 0, 0, 0, 0, 0, 0, 0, 0, 0, 0, 0, 0, 0, 0, 0, 0, 0, 0, 0, 0, 0, 0, 0, 0, 0, 0, 0, 0, 0, 0, 0, 0, 0, 0, 0, 0, 0, 0, 0, 0, 0, 0, 0, 0, 0, 0, 0, 0, 0, 0, 0, 0, 0, 0, 0, 0, 0, 0, 0, 0, 0, 0, 0, 0, 0, 0, 0, 0, 0, 0, 0, 0, 0, 0, 0, 0, 0, 0, 0, 0, 0, 0, 0, 0, 0, 0, 0, 0, 0, 0, 0, 0, 0, 0, 0, 0, 0, 0, 0, 0, 0, 0, 0, 0, 0, 0, 0, 0, 0, 0, 0, 0, 0, 0, 0, 0, 0, 0, 0, 0, 0, 0, 0, 0, 0, 0, 0, 0, 0, 0, 0, 0, 0, 0, 0, 0, 0, 0, 0, 0, 0, 0, 0, 0, 0, 0, 0, 0, 0, 0, 0, 0, 0, 0, 0, 0, 0, 0, 0, 0, 0, 0, 0, 0, 0, 0, 0, 0, 0, 0, 0, 0, 0, 0, 0, 0, 0, 0, 0, 0, 0, 0, 0, 0, 0, 0, 0, 0, 0, 0, 0, 0, 0, 0, 0, 0, 0, 0, 0, 0, 0, 0, 0, 0, 0, 0, 0, 0, 0, 0, 0, 0, 0, 0, 0, 0, 0, 0, 0, 0, 0, 0, 0, 0, 0, 0, 0, 0, 0, 0, 0, 0, 0, 0, 0, 0, 0, 0, 0, 0, 0, 0, 0, 0, 0, 0, 0, 0, 0, 0, 0, 0, 0, 0, 0, 0, 0, 0, 0, 0, 0, 0, 0, 0, 0, 0, 0, 0]\n",
      "10180\n",
      "10180\n"
     ]
    }
   ],
   "source": [
    "length = len(close_prices)\n",
    "\n",
    "lower_bound = 30\n",
    "upper_bound = 90\n",
    "\n",
    "decision_lst = []\n",
    "\n",
    "buy = False\n",
    "sell = True\n",
    "\n",
    "for i in range(0,length):\n",
    "    rsi = rsi_list[i]\n",
    "    \n",
    "    if (rsi <= lower_bound) and buy == False:\n",
    "        buy = True\n",
    "        sell = False\n",
    "        decision_lst.append(1)\n",
    "    elif (rsi > upper_bound) and sell == False:\n",
    "        sell = True\n",
    "        buy = False\n",
    "        decision_lst.append(-1)\n",
    "    else:\n",
    "        \n",
    "        decision_lst.append(0)\n",
    "\n",
    "print(decision_lst[0:500])\n",
    "print(len(decision_lst))\n",
    "print(len(close_prices))\n",
    "\n"
   ]
  },
  {
   "cell_type": "code",
   "execution_count": 198,
   "metadata": {},
   "outputs": [
    {
     "name": "stdout",
     "output_type": "stream",
     "text": [
      "41.455509913862315\n"
     ]
    }
   ],
   "source": [
    "decision_lst = np.asarray(decision_lst)\n",
    "bought_price=0\n",
    "returns_list = []\n",
    "\n",
    "for i in range(0,length):\n",
    "    decision = decision_lst[i]\n",
    "    rtrn = 0\n",
    "    close = close_prices[i]\n",
    "    if decision == 1:\n",
    "        bought_price = close\n",
    "    elif decision == -1:\n",
    "        rtrn = (close - bought_price) / bought_price\n",
    "    returns_list.append(rtrn)\n",
    "\n",
    "total_rtrn = sum(returns_list)\n",
    "print(total_rtrn)"
   ]
  },
  {
   "cell_type": "code",
   "execution_count": null,
   "metadata": {},
   "outputs": [],
   "source": []
  }
 ],
 "metadata": {
  "kernelspec": {
   "display_name": "Python 3",
   "language": "python",
   "name": "python3"
  },
  "language_info": {
   "codemirror_mode": {
    "name": "ipython",
    "version": 3
   },
   "file_extension": ".py",
   "mimetype": "text/x-python",
   "name": "python",
   "nbconvert_exporter": "python",
   "pygments_lexer": "ipython3",
   "version": "3.8.5"
  }
 },
 "nbformat": 4,
 "nbformat_minor": 4
}
