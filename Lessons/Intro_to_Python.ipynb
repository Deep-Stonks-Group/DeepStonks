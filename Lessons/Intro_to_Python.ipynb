{
  "nbformat": 4,
  "nbformat_minor": 0,
  "metadata": {
    "colab": {
      "name": "Intro to Python.ipynb",
      "provenance": []
    },
    "kernelspec": {
      "name": "python3",
      "display_name": "Python 3"
    },
    "language_info": {
      "name": "python"
    }
  },
  "cells": [
    {
      "cell_type": "markdown",
      "metadata": {
        "id": "y7leYJxt-ymE"
      },
      "source": [
        "# **Python Variables**\n"
      ]
    },
    {
      "cell_type": "code",
      "metadata": {
        "id": "2UuB7Q9q-xy6"
      },
      "source": [
        "my_int = 1\n",
        "my_float = 1.0\n",
        "my_string = 'Hello'\n",
        "my_bool = True\n",
        "my_list = [1,2,3,4]\n",
        "my_dict = {'Food': ['aaples','pie','pizze'], 'Places': ['Florida', 'Texas', 'Chicago'], 'Colors':['Red','Green','Blue']}"
      ],
      "execution_count": null,
      "outputs": []
    },
    {
      "cell_type": "markdown",
      "metadata": {
        "id": "ZqxuAS9T_4qO"
      },
      "source": [
        "# **Printing Variables**\n"
      ]
    },
    {
      "cell_type": "code",
      "metadata": {
        "colab": {
          "base_uri": "https://localhost:8080/"
        },
        "id": "QYK75ZZb_vgU",
        "outputId": "79699773-46d5-4cfa-bf91-be12420971d7"
      },
      "source": [
        "print(my_int)\n",
        "print(my_float)\n",
        "print(my_string)\n",
        "print(my_bool)\n",
        "print(my_list)\n",
        "print(my_dict)\n",
        "print(my_dict['Colors'])"
      ],
      "execution_count": null,
      "outputs": [
        {
          "output_type": "stream",
          "text": [
            "1\n",
            "1.0\n",
            "Hello\n",
            "True\n",
            "[1, 2, 3, 4]\n",
            "{'Food': ['aaples', 'pie', 'pizze'], 'Places': ['Florida', 'Texas', 'Chicago'], 'Colors': ['Red', 'Green', 'Blue']}\n",
            "['Red', 'Green', 'Blue']\n"
          ],
          "name": "stdout"
        }
      ]
    },
    {
      "cell_type": "markdown",
      "metadata": {
        "id": "-vumm0ClBA4q"
      },
      "source": [
        "# **Importing Outside Libaries**\n",
        "\n",
        "You may need to use code that someone else created. People can there own code, and package it so that you can use it. We will go into later how to install this code. But for now we will use a simple library that comes with Python called \"Math\". This library allows you to perform basic math operations such as \"square root\" which we will demonstrate.\n",
        "\n",
        "To use the code you must use the ```import``` key word followed by the library name. Then when you want to use a specific peice of code, you can use library name in this cased ```math``` followed by a ```.``` followed by the \"function\" name (we will get into functions later) in this case its ```sqrt()```. The function requires a specific value within the parenthesis, in this case its ```100```.\n"
      ]
    },
    {
      "cell_type": "code",
      "metadata": {
        "colab": {
          "base_uri": "https://localhost:8080/"
        },
        "id": "5YwNyCz8BFGI",
        "outputId": "c90c6c4b-7626-4e7f-808b-c8000b4d6f0e"
      },
      "source": [
        "import math\n",
        "\n",
        "a = math.sqrt(100)\n",
        "print(a)"
      ],
      "execution_count": null,
      "outputs": [
        {
          "output_type": "stream",
          "text": [
            "10.0\n"
          ],
          "name": "stdout"
        }
      ]
    },
    {
      "cell_type": "markdown",
      "metadata": {
        "id": "DYOonz3EBRbt"
      },
      "source": [
        "# **Importing Specific Functions from Outside Libraries**\n",
        "\n",
        "A function is a peice of code that takes input values and produces an output value. Think of this like in math. If I have an equation Y = x, it takes the input x and produces the output Y.\n",
        "\n",
        "In this example the input is ```100``` and the output is ```10```. You can import functions directly from a libary by using ```from```, followed by the library name followed by ```import``` folowed by the specific function you want to use.\n"
      ]
    },
    {
      "cell_type": "code",
      "metadata": {
        "colab": {
          "base_uri": "https://localhost:8080/"
        },
        "id": "bhfqBhJABXEu",
        "outputId": "6de378d8-3dfd-4046-8cec-43dec5bf0227"
      },
      "source": [
        "from math import sqrt\n",
        "a = sqrt(100)\n",
        "print(a)"
      ],
      "execution_count": null,
      "outputs": [
        {
          "output_type": "stream",
          "text": [
            "10.0\n"
          ],
          "name": "stdout"
        }
      ]
    },
    {
      "cell_type": "markdown",
      "metadata": {
        "id": "xmi-yOs6Bg4a"
      },
      "source": [
        "# **Exponents**\n",
        "\n",
        "You can use exponents by doing the base number followed by ```**``` followed by the exponenet."
      ]
    },
    {
      "cell_type": "code",
      "metadata": {
        "colab": {
          "base_uri": "https://localhost:8080/"
        },
        "id": "ThagZSjABjy8",
        "outputId": "1171b62d-174a-496e-b546-e1dd4094d19e"
      },
      "source": [
        "a = 10 ** 2\n",
        "b = 3 ** 2\n",
        "print(a)\n",
        "print(b)"
      ],
      "execution_count": null,
      "outputs": [
        {
          "output_type": "stream",
          "text": [
            "100\n",
            "9\n"
          ],
          "name": "stdout"
        }
      ]
    },
    {
      "cell_type": "markdown",
      "metadata": {
        "id": "-T_MLX7_AsDc"
      },
      "source": [
        "# **Exercise: Pythagorean Theorum**\n",
        "\n",
        "Here we are doing the pythagorean theorem. I would encourage you to try this youself before looking at the solution!\n",
        "\n",
        "You are given variables:\n",
        "```\n",
        "a = 3\n",
        "b = 4\n",
        "```\n",
        "\n",
        "Now write a line of code that calculates c using the pathagorean theorem:\n",
        "\n",
        "![Screen Shot 2021-05-05 at 9.05.25 AM.png](data:image/png;base64,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)\n",
        "\n",
        "\n"
      ]
    },
    {
      "cell_type": "code",
      "metadata": {
        "colab": {
          "base_uri": "https://localhost:8080/"
        },
        "id": "X44oesj5AtbI",
        "outputId": "05a2de52-b711-4647-a627-35d57ae08782"
      },
      "source": [
        "a = 3\n",
        "b = 4\n",
        "c = sqrt((a ** 2) + (b ** 2))\n",
        "print(c)"
      ],
      "execution_count": null,
      "outputs": [
        {
          "output_type": "stream",
          "text": [
            "5.0\n"
          ],
          "name": "stdout"
        }
      ]
    },
    {
      "cell_type": "markdown",
      "metadata": {
        "id": "D4qdyHmRASQR"
      },
      "source": [
        "# **Concatenating Strings and Casting**\n",
        "\n",
        "To concatenate a string means to add two strings together. You can simply do this by doing strin_1 ```+``` string_2. \n",
        "\n",
        "However you cannot concatenate two strings if they are of different types. For instance an integer must first be cast to type string. To do this you use the function ```str()```. In the example we cast the integere ```age``` to string."
      ]
    },
    {
      "cell_type": "code",
      "metadata": {
        "colab": {
          "base_uri": "https://localhost:8080/"
        },
        "id": "tfsU3SJ3AD_y",
        "outputId": "29e411f7-e863-4291-cb6d-3549cf79acf9"
      },
      "source": [
        "age = 24\n",
        "name = 'Caleb'\n",
        "output = 'Hello ' + name + ', you are ' + str(age) + ' years old.'\n",
        "print(output)"
      ],
      "execution_count": null,
      "outputs": [
        {
          "output_type": "stream",
          "text": [
            "Hello Caleb, you are 24 years old.\n"
          ],
          "name": "stdout"
        }
      ]
    },
    {
      "cell_type": "markdown",
      "metadata": {
        "id": "6L0-Q_K3D11d"
      },
      "source": [
        "# **Accessing Value in a List**\n",
        "\n",
        "Accessing a value in a list can be done by using the value index. The first value starts at 0. You just use the list name followed by ```[0]``` to get the first index.\n",
        "\n",
        "To access the last index you can do the list name followed by ```[-1]```.\n",
        "\n",
        "To access several values you can do the list name followed by ```[1:3]``` where 1 is the starting index and 3 is the index after where you want to stop.\n"
      ]
    },
    {
      "cell_type": "code",
      "metadata": {
        "colab": {
          "base_uri": "https://localhost:8080/"
        },
        "id": "LkTcIXuOD4hL",
        "outputId": "c80ef873-387c-433e-d814-29449735a8cf"
      },
      "source": [
        "a = [1,2,3,4,5]\n",
        "print(a[0])\n",
        "print(a[-1])\n",
        "print(a[0:3])"
      ],
      "execution_count": null,
      "outputs": [
        {
          "output_type": "stream",
          "text": [
            "1\n",
            "5\n",
            "[1, 2, 3]\n"
          ],
          "name": "stdout"
        }
      ]
    },
    {
      "cell_type": "markdown",
      "metadata": {
        "id": "8tXC10aIDkyZ"
      },
      "source": [
        "# **Appending/Removing Elements to/from List**\n",
        "\n",
        "Adding a value to the end of a list is called appending. You can do this by doing the list name followed by ```appennd()``` where the value you want to add to the end of the list is in the parenthesis.\n",
        "\n",
        "As mentioned before ```[0:2]``` can be used to retrieve the first two elements.\n",
        "\n",
        "```[0:-1]``` can be used to remove the last element.\n"
      ]
    },
    {
      "cell_type": "code",
      "metadata": {
        "colab": {
          "base_uri": "https://localhost:8080/"
        },
        "id": "1xmDh3B_DjKg",
        "outputId": "71c6a4ab-621c-4544-ec81-7a40fab623a8"
      },
      "source": [
        "a = [1,2,3,4]\n",
        "print(a)\n",
        "a.append(5)\n",
        "print('Appended 5 to end: ' + str(a))\n",
        "a = a[0:2]\n",
        "print('Got first 2 elements: ' + str(a))\n",
        "a = [1,2,3,4]\n",
        "a = a[0:-1]\n",
        "print('Removed last element: ' + str(a))"
      ],
      "execution_count": null,
      "outputs": [
        {
          "output_type": "stream",
          "text": [
            "[1, 2, 3, 4]\n",
            "Appended 5 to end: [1, 2, 3, 4, 5]\n",
            "Got first 2 elements: [1, 2]\n",
            "[1, 2, 3]\n"
          ],
          "name": "stdout"
        }
      ]
    },
    {
      "cell_type": "markdown",
      "metadata": {
        "id": "oLg6olFpG3Qf"
      },
      "source": [
        "# **Sorting a List**\n",
        "\n",
        "You may want to sort a list by doing the list name followed by ```.sort()``` which can sort a numeric list or even a list of strings.\n",
        "\n",
        "You can also sort a list in reverse order by passing the value ```reverse=True```.\n"
      ]
    },
    {
      "cell_type": "code",
      "metadata": {
        "colab": {
          "base_uri": "https://localhost:8080/"
        },
        "id": "C9sjcmWkG43D",
        "outputId": "5a29abd6-111c-4d1a-d89b-55ad7cb8aea2"
      },
      "source": [
        "a = [5,2,9,11]\n",
        "a.sort()\n",
        "print('Sorted: ' + str(a))\n",
        "a.sort(reverse=True)\n",
        "print('Reverse Sorted: ' + str(a))"
      ],
      "execution_count": null,
      "outputs": [
        {
          "output_type": "stream",
          "text": [
            "Sorted: [2, 5, 9, 11]\n",
            "Reverse Sorted: [11, 9, 5, 2]\n"
          ],
          "name": "stdout"
        }
      ]
    },
    {
      "cell_type": "markdown",
      "metadata": {
        "id": "F4fjCzVRDIkW"
      },
      "source": [
        "# **List Operations**\n",
        "\n",
        "There are even more operations that can be done on a list:\n",
        "\n",
        "```sum()```\n",
        " - Adds all the elements in a list.\n",
        " \n",
        "```len()```\n",
        "- Gets the length of the list.\n"
      ]
    },
    {
      "cell_type": "code",
      "metadata": {
        "colab": {
          "base_uri": "https://localhost:8080/"
        },
        "id": "cpXfcgh7DK9M",
        "outputId": "b8ce0faa-64ba-4924-ddbd-b0c324453d34"
      },
      "source": [
        "a = [72.292503,73.764999,75.114998]\n",
        "a_sum = sum(a)\n",
        "print('Sum: ' + str(a_sum))\n",
        "a_length = len(a)\n",
        "print('Length: ' + str(a_length))\n",
        "a_avg = a_sum/a_length\n",
        "print('Average: ' + str(a_avg))"
      ],
      "execution_count": null,
      "outputs": [
        {
          "output_type": "stream",
          "text": [
            "Sum: 221.1725\n",
            "Length: 3\n",
            "Average: 73.72416666666668\n",
            "Sorted: [2, 5, 9, 11]\n",
            "Reverse Sorted: [11, 9, 5, 2]\n"
          ],
          "name": "stdout"
        }
      ]
    },
    {
      "cell_type": "markdown",
      "metadata": {
        "id": "oLjPYm2IHFL3"
      },
      "source": [
        "##**Exercise: Calculating Line Between 2 Points:**\n",
        "\n",
        "Try this yourself before looking at the solution!\n",
        "\n",
        "Here we will give you two points.\n",
        "```\n",
        "x = [1,2]\n",
        "y = [1,2]\n",
        "```\n",
        "\n",
        "Use the following formulas to calculate the lines between two points:\n",
        "\n",
        "Y = mX + b\n",
        "\n",
        "m = (Y2-Y1) / (X2 / X1)\n",
        "\n",
        "b = m(X1) - Y1\n"
      ]
    },
    {
      "cell_type": "code",
      "metadata": {
        "colab": {
          "base_uri": "https://localhost:8080/"
        },
        "id": "qwJCEXIRHHIk",
        "outputId": "5f8fab30-f1b8-4d47-9f55-96974010aaca"
      },
      "source": [
        "x = [1,2]\n",
        "y = [1,2]\n",
        "\n",
        "m = (y[1]-y[0]) / (x[1]-x[0])\n",
        "print(\"Slope: \" + str(m))\n",
        "\n",
        "b = y[0] - m * x[0]\n",
        "print(\"Y-intercept: \" + str(b))\n",
        "\n",
        "print(\"Line Formula: Y = \" + str(m)+ \"x + \" + str(b))"
      ],
      "execution_count": null,
      "outputs": [
        {
          "output_type": "stream",
          "text": [
            "Slope: 1.0\n",
            "Y-intercept: 0.0\n",
            "Line Formula: Y = 1.0x + 0.0\n"
          ],
          "name": "stdout"
        }
      ]
    },
    {
      "cell_type": "markdown",
      "metadata": {
        "id": "M2dfttCzNbz3"
      },
      "source": [
        "# **For Loops**\n",
        "\n",
        "It may be useful to loop through some values. In python it is pretty easy.\n",
        "\n",
        "Use ```for i in range(0,5)``` to loop through 0,1,2,3,4,5.\n",
        "\n",
        "You may also want to loop through a list.\n",
        "\n",
        "Use ```for i in a:``` where a is the list name. \n",
        "\n",
        "*** Be careful about following the example below. Pay close attention to indentations."
      ]
    },
    {
      "cell_type": "code",
      "metadata": {
        "colab": {
          "base_uri": "https://localhost:8080/"
        },
        "id": "QRvZ2lo6NdTq",
        "outputId": "9beaab62-9fdc-4533-f048-f0a55a4dece5"
      },
      "source": [
        "print(\"Basic Loops: \")\n",
        "for i in range (0,5):\n",
        "  print(i)\n",
        "\n",
        "print(\"\\nLooping through String Lists: \")\n",
        "a = ['Caleb', 'Matt', 'Brandon']\n",
        "for i in a:\n",
        "  print(i)\n",
        "print(\"\\nLooping through Number List: \")\n",
        "a = [1,2,3,4]\n",
        "for i in a:\n",
        "  print(i)"
      ],
      "execution_count": null,
      "outputs": [
        {
          "output_type": "stream",
          "text": [
            "Basic Loops: \n",
            "0\n",
            "1\n",
            "2\n",
            "3\n",
            "4\n",
            "\n",
            "Looping through String Lists: \n",
            "Caleb\n",
            "Matt\n",
            "Brandon\n",
            "\n",
            "Looping through Number List: \n",
            "1\n",
            "2\n",
            "3\n",
            "4\n"
          ],
          "name": "stdout"
        }
      ]
    },
    {
      "cell_type": "markdown",
      "metadata": {
        "id": "YJT0E72kOLLt"
      },
      "source": [
        "# **List Comprehension (Loops within Lists)**\n",
        "\n",
        "List comprehension is used to efficiently perform operations on a list. In this example we show how to square each value in a list and how to multiply each value in two lists.\n",
        "\n",
        "In order to perform list comprenehsion you use a for loop inside of brackets.\n",
        "\n",
        "```[i for i in list_name]```\n",
        "\n",
        "This will loop through each element in the list and place it in a new list. If ou want to double the value of each element you do the following:\n",
        "\n",
        "```[i*2 for i in list_name]```\n",
        "\n",
        "You can also loop through two lists by using ```zip()```. The following code multiplies each value in the two lists:\n",
        "\n",
        "```[i*j for i,j in zip(list1,list2)]```\n"
      ]
    },
    {
      "cell_type": "code",
      "metadata": {
        "colab": {
          "base_uri": "https://localhost:8080/"
        },
        "id": "ParrkGkgOoac",
        "outputId": "832a42f4-26a6-4eed-d6fe-f092f2c1d146"
      },
      "source": [
        "print(\"Square a List: \")\n",
        "a = [1,2,3,4,5,6]\n",
        "a_squared = [i*i for i in a]\n",
        "print(a_squared)\n",
        "\n",
        "print(\"Multiply two lists: \")\n",
        "a = [1,2,3,4,5,6]\n",
        "b = [2,2,2,2,2,2]\n",
        "a_times_b = [i*j for i,j in zip(a,b)]\n",
        "print(a_times_b)"
      ],
      "execution_count": null,
      "outputs": [
        {
          "output_type": "stream",
          "text": [
            "Square a List: \n",
            "[1, 4, 9, 16, 25, 36]\n",
            "Multiply two lists: \n",
            "[2, 4, 6, 8, 10, 12]\n"
          ],
          "name": "stdout"
        }
      ]
    },
    {
      "cell_type": "markdown",
      "metadata": {
        "id": "Bg-CFJl_JoA1"
      },
      "source": [
        "# **Functions**\n",
        "\n",
        "Here we introduce functions! Functions are a great way to write code that you plan on using over and over again. The basic syntax is to write ```def``` followed by the function name followed by the parameters in parenthesis.\n",
        "\n",
        "```def myFunction(param1,param2):```\n",
        "\n",
        "Then the code that the function is to perform is indented on the next line.\n",
        "\n",
        "If you would like the function to return a value, then you can use the ```return``` key word followed by the value:\n",
        "\n",
        "```\n",
        "def myFunction(param1,param2):\n",
        "  sum = param1+param2\n",
        "  return sum\n",
        "```\n",
        "\n",
        "You can call a function by using its name and the values you would like to pass into the function:\n",
        "\n",
        "```a = myFunction(1,2)```\n",
        "\n",
        "In this example we are creating a function to for the equation of a straight line: ``` Y = mX + b```. We will need two additional functions to get the slope and to get the Intercepts of the line. \n",
        "\n",
        "The equation for slope:\n",
        "```m = (Y2-Y1) / (X2-X1)```\n",
        "\n",
        "The equation for Y-intercept:\n",
        "```b = Y1 - m(X1)```"
      ]
    },
    {
      "cell_type": "code",
      "metadata": {
        "colab": {
          "base_uri": "https://localhost:8080/"
        },
        "id": "xctFz73fJtAW",
        "outputId": "61913a34-593e-4978-999f-8b3a17b04043"
      },
      "source": [
        "# The function to get the Slope\n",
        "def getSlope(x,y):\n",
        "    m = (y[1]-y[0]) / (x[1]-x[0])\n",
        "    return m\n",
        "\n",
        "# The function to get the Intercept\n",
        "def getIntercepts(x1,y1):\n",
        "    b = y1 - m * x1\n",
        "    return b\n",
        "\n",
        "# The x and y points\n",
        "x = [1,2]\n",
        "y = [1,2]\n",
        "\n",
        "# Getting the slope and storing in m.\n",
        "m = getSlope(x,y)\n",
        "# Getting the intercept and storing in b.\n",
        "b = getIntercepts(x[0],y[0])\n",
        "# Printing Values\n",
        "print(\"Slope: \" + str(m))\n",
        "print(\"Intercept: \" + str(b))\n",
        "\n",
        "# The function that takes and slope, intercept and an input value and returns the\n",
        "# corresponding y value.\n",
        "def getNewY(x,m,b):\n",
        "  Y = m*x+b\n",
        "  return Y\n",
        "\n",
        "# Getting the corresponding y value to x = 3.\n",
        "Y = getNewY(3,m,b)\n",
        "print(\"New Y: \" + str(Y))\n"
      ],
      "execution_count": 32,
      "outputs": [
        {
          "output_type": "stream",
          "text": [
            "Slope: 1.0\n",
            "Intercept: 0.0\n",
            "New Y: 3.0\n"
          ],
          "name": "stdout"
        }
      ]
    },
    {
      "cell_type": "markdown",
      "metadata": {
        "id": "QII1dRlML7L_"
      },
      "source": [
        "# Challenge: **Regression Formula**\n",
        "\n",
        "If you really want a challenge try to implement these formulas yourself! We have already covered all the code needed.\n",
        "\n",
        "Y = aX + b\n",
        "\n",
        "Use the input:\n",
        "```\n",
        "x = [1,2,3,4,5]\n",
        "y = [1,2,3,4,5]\n",
        "```\n",
        "\n",
        "![Screen Shot 2021-05-04 at 4.27.37 PM.png](data:image/png;base64,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)\n"
      ]
    },
    {
      "cell_type": "code",
      "metadata": {
        "colab": {
          "base_uri": "https://localhost:8080/"
        },
        "id": "IjaV2QTWMLPd",
        "outputId": "6f02edb8-1f5d-47bc-833a-a3293cd3de4b"
      },
      "source": [
        "# This will get you the intercept (b)\n",
        "def getIntercept(x,y):\n",
        "  n = len(x)\n",
        "  # Calculating the summating of x*y\n",
        "  x_times_y = [i*j for i,j in zip(x,y)]\n",
        "  x_times_y_sum = sum(x_times_y)\n",
        "  # Calculating the summation of x\n",
        "  x_sum = sum(x)\n",
        "  # Calculating the summation of y\n",
        "  y_sum = sum(y)\n",
        "  # Calculating the numerator\n",
        "  numerator = (n*x_times_y_sum) - (x_sum*y_sum)\n",
        "\n",
        "  # Calculating the summation of x^2\n",
        "  x_sqrd = [i*i for i in x]\n",
        "  x_sqrd_sum = sum(x_sqrd)\n",
        "  # Squaring the summation of x\n",
        "  x_sum_sqrd = x_sum ** 2\n",
        "  # Calculating the denomitator\n",
        "  denominator = (n*x_sqrd_sum) - x_sum_sqrd\n",
        "\n",
        "  # Calculating the intercept and returning it.\n",
        "  b = numerator / denominator\n",
        "  return b\n",
        "\n",
        "# Get the slop of the regression line\n",
        "def getSlope(x,y,b):\n",
        "    # Caluclating the sum of x\n",
        "    x_sum = sum(x)\n",
        "    # Calculating the sum of y\n",
        "    y_sum = sum(y)\n",
        "    n = len(x)\n",
        "\n",
        "    #Getting the numerator\n",
        "    numerator = y_sum - (b*x_sum)\n",
        "\n",
        "    #Getting the final a value and returned it.\n",
        "    a = numerator / n\n",
        "    return a\n",
        "\n",
        "# The data\n",
        "x = [1,2,3,4,5]\n",
        "y = [1,2,3,4,5]\n",
        "\n",
        "# Calculating parameters for regression line\n",
        "b = getIntercept(x,y)\n",
        "a = getSlope(x,y,b)\n",
        "print(\"Intercept: \" + str(b))\n",
        "print(\"Slope: \" + str(a))\n",
        "\n",
        "# Using the parameters to get new Y value.\n",
        "def getNewY(X,b,a):\n",
        "  Y = b*X + a\n",
        "  return Y\n",
        "\n",
        "# Passing a new input x value.\n",
        "Y = getNewY(7,b,a)\n",
        "print(\"New Y: \" + str(Y))"
      ],
      "execution_count": 33,
      "outputs": [
        {
          "output_type": "stream",
          "text": [
            "Intercept: 1.0\n",
            "Slope: 0.0\n",
            "New Y: 7.0\n"
          ],
          "name": "stdout"
        }
      ]
    },
    {
      "cell_type": "markdown",
      "metadata": {
        "id": "G5Fz6rL1vTJ2"
      },
      "source": [
        "# **Using Regression to Predict the Stock Market**\n",
        "\n",
        "This is a fun application of the regression line. Regression lines are kind of the most basic form of machine learning. Where you have some input data x. You \"train\" a model on x to make a prediction. It then produces a prediction y. \n",
        "\n",
        "First, the input data is the close price of the 'AAPL' stock:\n",
        "```\n",
        "close_prices = [127.90,130.36,133.00,131.24,134.43]\n",
        "```\n",
        "\n",
        "The labels need to be the next day's closing price:\n",
        "```\n",
        "labels = [130.36,133.00,131.24,134.43]\n",
        "```\n",
        "\n",
        "In the code below, we just offset close_prices by 1 to get these labels. I also needed to remove the last element of the close_prices because it does not have a label:\n",
        "\n",
        "```\n",
        "close_prices = [127.90,130.36,133.00,131.24]\n",
        "```\n",
        "\n",
        "\n",
        "When performing a machine learning task, you typically divide the data into input and test data. To do this I just removed the very last element of the list and we will be using that for testing. In this example x and y are the training data sets. And test_x and test_y are the testing datasets that look like as follows:\n",
        "\n",
        "```\n",
        "x = [127.90,130.36,133.00]\n",
        "y = [130.36,133.00,131.24]\n",
        "test_x = 131.24\n",
        "test_y = 134.43\n",
        "```\n",
        "You can then run getSlope and getInterceps on the x and y data to \"train\" the model and get the a and b parameters. You can the use those parameters to make a prediction. To test how well the model performs we will apply the model to test_x by using test_x as input into the getNewY function. We can then compare the predicted y value from getNewY to the test_y value that was the real value.\n",
        "\n",
        "In this example the values were quite far off, but that is expected due to the small amount of data, and the plainess of the regression model.\n"
      ]
    },
    {
      "cell_type": "code",
      "metadata": {
        "colab": {
          "base_uri": "https://localhost:8080/"
        },
        "id": "IeJkAyiAvYfy",
        "outputId": "c7d21a07-e1b6-4015-d842-40966f746eb5"
      },
      "source": [
        "# Assigning the label to be the next day's close price\n",
        "close_prices = [127.90,130.36,133.00,131.24,134.43]\n",
        "labels = close_prices[1:len(close_prices)]\n",
        "print(\"Close Prices and Labels: \")\n",
        "print(close_prices)\n",
        "print(labels)\n",
        "\n",
        "# Removing the final value from the close price to match the labels.\n",
        "x = close_prices[0:-1]\n",
        "y = labels\n",
        "print(\"\\nX and Y: \")\n",
        "print(x)\n",
        "print(y)\n",
        "\n",
        "# Removing the last value of both x and y so that we can use it later to\n",
        "# test the prediction.\n",
        "test_x = x[-1]\n",
        "test_y = y[-1]\n",
        "print(\"\\Test X and Y: \")\n",
        "print(test_x)\n",
        "print(test_y)\n",
        "x= x[0:-1]\n",
        "y = y[0:-1]\n",
        "print(\"\\nNew X and Y: \")\n",
        "print(x)\n",
        "print(y)\n",
        "\n",
        "# Using previously created functions to get the slope and intercepts\n",
        "print(\"\\n Finding the regression\")\n",
        "b = getSlope(x,y)\n",
        "a = getIntercept(x,y,b)\n",
        "print(\"Slope: \" + str(b))\n",
        "print(\"Intercept: \" + str(a))\n",
        "# Testing the regression on the test data\n",
        "print(\"\\nThe prediction\")\n",
        "Y = getNewY(test_x,b,a)\n",
        "print(\"Predicted Y: \" + str(Y))\n",
        "print(\"Real Y: \" + str(test_y))"
      ],
      "execution_count": 14,
      "outputs": [
        {
          "output_type": "stream",
          "text": [
            "Close Prices and Labels: \n",
            "[127.9, 130.36, 133.0, 131.24, 134.43]\n",
            "[130.36, 133.0, 131.24, 134.43]\n",
            "\n",
            "X and Y: \n",
            "[127.9, 130.36, 133.0, 131.24]\n",
            "[130.36, 133.0, 131.24, 134.43]\n",
            "\\Test X and Y: \n",
            "131.24\n",
            "134.43\n",
            "\n",
            "New X and Y: \n",
            "[127.9, 130.36, 133.0]\n",
            "[130.36, 133.0, 131.24]\n",
            "\n",
            " Finding the regression\n",
            "Slope: 0.16233167312319133\n",
            "Intercept: 110.36203652460672\n",
            "\n",
            "The prediction\n",
            "Predicted Y: 131.66644530529436\n",
            "Real Y: 134.43\n"
          ],
          "name": "stdout"
        }
      ]
    },
    {
      "cell_type": "markdown",
      "metadata": {
        "id": "Ub5w4yaHCOdn"
      },
      "source": [
        "# **2-Dimension Lists**\n",
        "\n",
        "2D lists are very popular in python especially when dealing with machine learning. Here is an example of that they look like and how to retrieve information from them.\n"
      ]
    },
    {
      "cell_type": "code",
      "metadata": {
        "id": "KC4OjAI5CSfp",
        "colab": {
          "base_uri": "https://localhost:8080/"
        },
        "outputId": "8b7f835f-ba41-4b41-a3ef-b68ebc5e485c"
      },
      "source": [
        "Labels = ['Open','High','Low','Close','Volume']\n",
        "data = [[72.292503,73.422501,71.580002,73.290001,133568000]\\\n",
        "      , [73.764999,75.250000,73.614998,74.389999,147751200]\\\n",
        "      , [75.114998,75.809998,74.717499,75.157501,142333600]]\n",
        "print(\"\\nAll data: \")\n",
        "print(data)\n",
        "\n",
        "print(\"\\nFirst row: \")\n",
        "print(data[0])\n",
        "\n",
        "print(\"\\nThird row: \")\n",
        "print(data[2])\n",
        "\n",
        "print(\"\\nSecond and Third row: \")\n",
        "print(data[1:3])\n",
        "\n",
        "print(\"\\nGet column \")\n",
        "print([i[0] for i in data])"
      ],
      "execution_count": 31,
      "outputs": [
        {
          "output_type": "stream",
          "text": [
            "\n",
            "All data: \n",
            "[[72.292503, 73.422501, 71.580002, 73.290001, 133568000], [73.764999, 75.25, 73.614998, 74.389999, 147751200], [75.114998, 75.809998, 74.717499, 75.157501, 142333600]]\n",
            "\n",
            "First row: \n",
            "[72.292503, 73.422501, 71.580002, 73.290001, 133568000]\n",
            "\n",
            "Third row: \n",
            "[75.114998, 75.809998, 74.717499, 75.157501, 142333600]\n",
            "\n",
            "Second and Third row: \n",
            "[[73.764999, 75.25, 73.614998, 74.389999, 147751200], [75.114998, 75.809998, 74.717499, 75.157501, 142333600]]\n",
            "\n",
            "Get column \n",
            "[72.292503, 73.764999, 75.114998]\n"
          ],
          "name": "stdout"
        }
      ]
    },
    {
      "cell_type": "code",
      "metadata": {
        "id": "yB0VY90VC57r"
      },
      "source": [
        ""
      ],
      "execution_count": 19,
      "outputs": []
    }
  ]
}